{
 "cells": [
  {
   "cell_type": "code",
   "execution_count": null,
   "id": "52814616-5697-4374-8e8d-1a354fde08a3",
   "metadata": {},
   "outputs": [],
   "source": [
    "Q1. Create a function which will take a list as an argument and return the product of all the numbers\n",
    "after creating a flat list.\n",
    "Use the below-given list as an argument for your function.\n",
    "list1 = [1,2,3,4, [44,55,66, True], False, (34,56,78,89,34), {1,2,3,3,2,1}, {1:34, \"key2\": [55, 67, 78, 89], 4: (45,\n",
    "22, 61, 34)}, [56, 'data science'], 'Machine Learning']\n",
    "Note: you must extract numeric keys and values of the dictionary also."
   ]
  },
  {
   "cell_type": "code",
   "execution_count": null,
   "id": "ec293105-d7ae-4ff1-96ec-43fe69e7bb50",
   "metadata": {},
   "outputs": [],
   "source": [
    "                                                    ANSWER-1"
   ]
  },
  {
   "cell_type": "code",
   "execution_count": 1,
   "id": "fa8c2ebb-abf6-4635-86ad-da18eb6a399a",
   "metadata": {},
   "outputs": [
    {
     "name": "stdout",
     "output_type": "stream",
     "text": [
      "4134711838987085478833841242112000\n"
     ]
    }
   ],
   "source": [
    "list1 = [1,2,3,4, [44,55,66, True], False, (34,56,78,89,34), {1,2,3,3,2,1}, {1:34, \"key2\": [55, 67, 78, 89], 4: (45,\n",
    "22, 61, 34)}, [56, 'data science'], 'Machine Learning']   ## Given List\n",
    "\n",
    "flat_list=[] ## Blank List\n",
    "\n",
    "def product_of_number(list1):\n",
    "    for item in list1:\n",
    "        if isinstance(item, (tuple,set,list)):  ## store all the number in list, tuple and set to flat list\n",
    "            flat_list.extend(item)\n",
    "        elif isinstance(item, dict):   ##  store all the number from dictionary\n",
    "            for key,value in item.items():\n",
    "                if isinstance(key, (int, float)):    ## for remove numeric value from the key of dictionary\n",
    "                    flat_list.append(key)\n",
    "                if isinstance(value, (tuple, list)):  ## for checking the value to be tuple or list\n",
    "                    flat_list.extend(value)\n",
    "                else:                            ## to add all the value that are not in list or tuple\n",
    "                    flat_list.append(value)\n",
    "        else:\n",
    "            flat_list.append(item)\n",
    "    product=1\n",
    "    for num in flat_list:\n",
    "        if isinstance(num, (int, float)) and num!=0:    ## to find product of all int and float values from the flat_list \n",
    "            product*=num\n",
    "    return product  \n",
    "print(product_of_number(list1))"
   ]
  },
  {
   "cell_type": "code",
   "execution_count": null,
   "id": "acc10e35-077a-49ef-ab58-ef1b01b46f2c",
   "metadata": {},
   "outputs": [],
   "source": []
  },
  {
   "cell_type": "code",
   "execution_count": null,
   "id": "13a5eff0-f282-48de-b9cf-1e0e79605389",
   "metadata": {},
   "outputs": [],
   "source": []
  },
  {
   "cell_type": "code",
   "execution_count": null,
   "id": "8ade917d-33f5-42ac-be66-71e29dad28ac",
   "metadata": {},
   "outputs": [],
   "source": []
  },
  {
   "cell_type": "code",
   "execution_count": null,
   "id": "f557fff5-5b5b-48e3-998b-bb02eeef8077",
   "metadata": {},
   "outputs": [],
   "source": [
    "Q2. Write a python program for encrypting a message sent to you by your friend. The logic of encryption\n",
    "should be such that, for a the output should be z. For b, the output should be y. For c, the output should\n",
    "be x respectively. Also, the whitespace should be replaced with a dollar sign. Keep the punctuation\n",
    "marks unchanged.\n",
    "Input Sentence: I want to become a Data Scientist.\n",
    "Encrypt the above input sentence using the program you just created.\n",
    "Note: Convert the given input sentence into lowercase before encrypting. The final output should be\n",
    "lowercase."
   ]
  },
  {
   "cell_type": "code",
   "execution_count": null,
   "id": "04635862-433c-4fcc-bcf5-0f6745d92656",
   "metadata": {},
   "outputs": [],
   "source": [
    "                                            ANSWER-2"
   ]
  },
  {
   "cell_type": "code",
   "execution_count": 2,
   "id": "ae356fa6-6610-45ee-bd28-ded5da1085a6",
   "metadata": {},
   "outputs": [
    {
     "name": "stdin",
     "output_type": "stream",
     "text": [
      "Enter the message:  I want to become a Data Scientist.\n"
     ]
    },
    {
     "name": "stdout",
     "output_type": "stream",
     "text": [
      "r$dzmg$gl$yvxlnv$z$wzgz$hxrvmgrhg.\n"
     ]
    }
   ],
   "source": [
    "message = input(\"Enter the message: \")  ## Take message from friend\n",
    "\n",
    "def encrypt(message):\n",
    "    message = message.lower()   ## Lower the message\n",
    "    encrypted_message = \"\"    ## blank message\n",
    "    alpha = \"abcdefghijklmnopqrstuvwxyz\"\n",
    "    for char in message: ## for loop for every character in messge\n",
    "        if char == \" \":   ## if the character is blank it print $\n",
    "            encrypted_message += \"$\"\n",
    "        ## it will reverse the string index for message encryption\n",
    "        elif char in alpha:\n",
    "            encrypted_message += alpha[25 - alpha.index(char)] \n",
    "        else:\n",
    "            encrypted_message += char\n",
    "    return encrypted_message\n",
    "\n",
    "print(encrypt(message))"
   ]
  },
  {
   "cell_type": "code",
   "execution_count": null,
   "id": "e394beb3-f7bd-4e88-bfc0-bc88043f7f01",
   "metadata": {},
   "outputs": [],
   "source": []
  }
 ],
 "metadata": {
  "kernelspec": {
   "display_name": "Python 3 (ipykernel)",
   "language": "python",
   "name": "python3"
  },
  "language_info": {
   "codemirror_mode": {
    "name": "ipython",
    "version": 3
   },
   "file_extension": ".py",
   "mimetype": "text/x-python",
   "name": "python",
   "nbconvert_exporter": "python",
   "pygments_lexer": "ipython3",
   "version": "3.10.8"
  }
 },
 "nbformat": 4,
 "nbformat_minor": 5
}
