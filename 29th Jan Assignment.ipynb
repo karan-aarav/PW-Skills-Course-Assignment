{
 "cells": [
  {
   "cell_type": "code",
   "execution_count": null,
   "id": "8f9e8246-56b0-4583-a10c-eaffbb12dae5",
   "metadata": {},
   "outputs": [],
   "source": [
    "Q.1 Who developed Python programming Language?"
   ]
  },
  {
   "cell_type": "code",
   "execution_count": null,
   "id": "2e085c06-6812-4629-ad8b-044da1e8cde0",
   "metadata": {},
   "outputs": [],
   "source": [
    "                                        ANSWER-1"
   ]
  },
  {
   "cell_type": "code",
   "execution_count": null,
   "id": "db6aef14-1a79-437f-9f6f-0d2c53a716b8",
   "metadata": {},
   "outputs": [],
   "source": [
    "Python was created by Guido van Rossum in the late 1980s."
   ]
  },
  {
   "cell_type": "code",
   "execution_count": null,
   "id": "480ee50c-c2e2-4bc8-ae5d-ef31a6abd4a4",
   "metadata": {},
   "outputs": [],
   "source": []
  },
  {
   "cell_type": "code",
   "execution_count": null,
   "id": "fd4fe1e2-daa2-420a-8b88-48db8d703e89",
   "metadata": {},
   "outputs": [],
   "source": []
  },
  {
   "cell_type": "code",
   "execution_count": null,
   "id": "6830aa59-209b-4822-81b0-752157aeae38",
   "metadata": {},
   "outputs": [],
   "source": []
  },
  {
   "cell_type": "code",
   "execution_count": null,
   "id": "6625a7d5-087e-460e-972d-2bbed5dcb662",
   "metadata": {},
   "outputs": [],
   "source": [
    "Q.2 Which type of programming does Python Support?"
   ]
  },
  {
   "cell_type": "code",
   "execution_count": null,
   "id": "2f052e83-8134-4081-bccc-01977cfb0bbe",
   "metadata": {},
   "outputs": [],
   "source": [
    "                                            ANSWER-2"
   ]
  },
  {
   "cell_type": "code",
   "execution_count": null,
   "id": "9809add3-1d83-4254-a975-6ccf7746acc8",
   "metadata": {},
   "outputs": [],
   "source": [
    "Python supports several programming paradigms:"
   ]
  },
  {
   "cell_type": "code",
   "execution_count": null,
   "id": "94b4d09c-da95-48cf-b17f-6bae19db6bf7",
   "metadata": {},
   "outputs": [],
   "source": [
    "\"Imperative programming\" - Python supports imperative programming, which is a programming style that involves giving the computer a sequence of tasks to perform. "
   ]
  },
  {
   "cell_type": "code",
   "execution_count": null,
   "id": "8d73e90d-4817-4af7-ba6f-8ae9546195f4",
   "metadata": {},
   "outputs": [],
   "source": [
    "\"Object-oriented programming\" - Python also supports object-oriented programming, which is a programming style that organizes code into reusable, modular units called objects. This allows for better code organization and reuse."
   ]
  },
  {
   "cell_type": "code",
   "execution_count": null,
   "id": "273c4b56-6701-4855-a440-11bc4a5b63fc",
   "metadata": {},
   "outputs": [],
   "source": [
    "\"functional programming\" - It is a style of programming that involves using built-in higher-order functions. A higher-order function takes other function as an argument or returns them as a result."
   ]
  },
  {
   "cell_type": "code",
   "execution_count": null,
   "id": "1e64c024-6c1c-4ade-8bb9-897df667be6c",
   "metadata": {},
   "outputs": [],
   "source": [
    "\"Procedural programming\" - Python supports procedural programming, which is a programming style that involves breaking down a problem into smaller, more manageable sub-problems and solving each sub-problem in a sequence of steps."
   ]
  },
  {
   "cell_type": "code",
   "execution_count": null,
   "id": "8688f3d6-9790-4af3-a15d-82de9cb6b9f7",
   "metadata": {},
   "outputs": [],
   "source": []
  },
  {
   "cell_type": "code",
   "execution_count": null,
   "id": "28170d6c-715e-4a6b-85fe-fef41f506582",
   "metadata": {},
   "outputs": [],
   "source": []
  },
  {
   "cell_type": "code",
   "execution_count": null,
   "id": "59ad4170-87a6-49ee-ab6c-d092cb0de899",
   "metadata": {},
   "outputs": [],
   "source": []
  },
  {
   "cell_type": "code",
   "execution_count": null,
   "id": "6e56673c-4868-4e1a-b2b8-7bc8d631b444",
   "metadata": {},
   "outputs": [],
   "source": [
    "Q.3 Is Python case sensitive when dealing with identifiers?"
   ]
  },
  {
   "cell_type": "code",
   "execution_count": null,
   "id": "e6aef7af-0846-4896-8825-fbd5cfc0d156",
   "metadata": {},
   "outputs": [],
   "source": [
    "                                            ANSWE-3"
   ]
  },
  {
   "cell_type": "code",
   "execution_count": null,
   "id": "526c7a97-fa6e-4c28-ab3d-ef87b7ea6e00",
   "metadata": {},
   "outputs": [],
   "source": [
    "Yes, Python is a case-sensitive language when dealing with identifiers. This means that variables, functions, and other identifiers that have different capitalization are treated as different entities in Python."
   ]
  },
  {
   "cell_type": "code",
   "execution_count": null,
   "id": "6c6be411-ea6c-489d-9dde-683a3b0c462b",
   "metadata": {},
   "outputs": [],
   "source": []
  },
  {
   "cell_type": "code",
   "execution_count": null,
   "id": "f0c23707-7257-4495-98f6-4f187fd4f60e",
   "metadata": {},
   "outputs": [],
   "source": []
  },
  {
   "cell_type": "code",
   "execution_count": null,
   "id": "e22cda8a-5cf7-4620-a3aa-b259c2700014",
   "metadata": {},
   "outputs": [],
   "source": [
    "Q.4 What is Correct extension of python programming language?"
   ]
  },
  {
   "cell_type": "code",
   "execution_count": null,
   "id": "ffe3fc5a-d22b-42e9-816d-54367ffd6ba5",
   "metadata": {},
   "outputs": [],
   "source": [
    "                                            ANSWER-4"
   ]
  },
  {
   "cell_type": "code",
   "execution_count": null,
   "id": "2d64f65d-0506-4b09-83c8-55cc7a9bd0e3",
   "metadata": {},
   "outputs": [],
   "source": [
    "The correct extension for Python programming files is .py."
   ]
  },
  {
   "cell_type": "code",
   "execution_count": null,
   "id": "73ab41c7-837d-45fe-b261-2c5aec20af46",
   "metadata": {},
   "outputs": [],
   "source": []
  },
  {
   "cell_type": "code",
   "execution_count": null,
   "id": "cc1fcb7c-4ff7-4230-bb25-f57d114294a7",
   "metadata": {},
   "outputs": [],
   "source": []
  },
  {
   "cell_type": "code",
   "execution_count": null,
   "id": "2c81b70e-1103-4f83-8c15-9f63596af37b",
   "metadata": {},
   "outputs": [],
   "source": [
    "Q.5 Is Python code compilled or interpreted?"
   ]
  },
  {
   "cell_type": "code",
   "execution_count": null,
   "id": "a3b5f404-2d4a-4643-8991-b9b7c55ab43b",
   "metadata": {},
   "outputs": [],
   "source": [
    "                                            ANSWER-5"
   ]
  },
  {
   "cell_type": "code",
   "execution_count": null,
   "id": "49f756cf-061f-4483-b0b7-67e6a97db3e1",
   "metadata": {},
   "outputs": [],
   "source": [
    "Python code is generally interpreted, meaning that the Python interpreter reads and executes the code line by line."
   ]
  },
  {
   "cell_type": "code",
   "execution_count": null,
   "id": "5a97e89a-080c-4659-9fd4-24bc8ceeb460",
   "metadata": {},
   "outputs": [],
   "source": []
  },
  {
   "cell_type": "code",
   "execution_count": null,
   "id": "905a1c55-51cb-488c-b867-137c808243e1",
   "metadata": {},
   "outputs": [],
   "source": []
  },
  {
   "cell_type": "code",
   "execution_count": null,
   "id": "50ef0f35-7342-4a10-aa44-7580db994e8d",
   "metadata": {},
   "outputs": [],
   "source": [
    "Q.6 Name a few Block of code use to define in python language?"
   ]
  },
  {
   "cell_type": "code",
   "execution_count": null,
   "id": "18045959-f9ff-40cf-8ad2-f3c114556f70",
   "metadata": {},
   "outputs": [],
   "source": [
    "                                            ANSWER-6"
   ]
  },
  {
   "cell_type": "code",
   "execution_count": null,
   "id": "3a6cd46a-b10b-4444-b4ed-ac6decaca803",
   "metadata": {},
   "outputs": [],
   "source": [
    "The following are blocks: a module, a function body, and a class definition."
   ]
  },
  {
   "cell_type": "code",
   "execution_count": null,
   "id": "0187b2e1-6b3d-484d-84fe-bc6364ee6757",
   "metadata": {},
   "outputs": [],
   "source": []
  },
  {
   "cell_type": "code",
   "execution_count": null,
   "id": "4af36872-238b-42c1-ad04-b02ef310bcbe",
   "metadata": {},
   "outputs": [],
   "source": []
  },
  {
   "cell_type": "code",
   "execution_count": null,
   "id": "9c6ed565-eb25-4dab-9cb6-93f2f103a083",
   "metadata": {},
   "outputs": [],
   "source": [
    "Q.7 State a Character used to give single line comments in python?"
   ]
  },
  {
   "cell_type": "code",
   "execution_count": null,
   "id": "c9cfc950-31cf-4a9a-851f-594c6bd416d5",
   "metadata": {},
   "outputs": [],
   "source": [
    "                                            ANSWER-7"
   ]
  },
  {
   "cell_type": "code",
   "execution_count": null,
   "id": "4e2b4c75-1628-4de0-8602-21eb20cf4a06",
   "metadata": {},
   "outputs": [],
   "source": [
    "\"#\" is the character used to give single line comment."
   ]
  },
  {
   "cell_type": "code",
   "execution_count": null,
   "id": "b624a7f4-3f50-499f-9af2-113c5cc9e5b8",
   "metadata": {},
   "outputs": [],
   "source": [
    "# This is a single-line comment in Python"
   ]
  },
  {
   "cell_type": "code",
   "execution_count": null,
   "id": "f32d13f9-6862-4043-b96a-9271181221ca",
   "metadata": {},
   "outputs": [],
   "source": []
  },
  {
   "cell_type": "code",
   "execution_count": null,
   "id": "142eff42-ce72-4dbb-8f91-5eb05bee7aa1",
   "metadata": {},
   "outputs": [],
   "source": []
  },
  {
   "cell_type": "code",
   "execution_count": null,
   "id": "78a46bef-cb26-4ccc-b2ff-941c7ee3024b",
   "metadata": {},
   "outputs": [],
   "source": [
    "Q.8 Mention a function which can help us to find the version of python we are Currently work on?"
   ]
  },
  {
   "cell_type": "code",
   "execution_count": null,
   "id": "40e2d428-1ab3-482b-9392-240a1fc64d17",
   "metadata": {},
   "outputs": [],
   "source": [
    "                                            ANSWER-8"
   ]
  },
  {
   "cell_type": "code",
   "execution_count": null,
   "id": "ae88cd48-0a40-484e-ab53-6c7fe3551808",
   "metadata": {},
   "outputs": [],
   "source": [
    "To find the version of Python that you are currently using, you can use the \" sys.version \" attribute. which will access with sys module. "
   ]
  },
  {
   "cell_type": "code",
   "execution_count": 1,
   "id": "330e7738-10c0-48d3-bc57-cfbb0baa19e0",
   "metadata": {},
   "outputs": [
    {
     "name": "stdout",
     "output_type": "stream",
     "text": [
      "Python version\n",
      "3.10.8 | packaged by conda-forge | (main, Nov 22 2022, 08:26:04) [GCC 10.4.0]\n"
     ]
    }
   ],
   "source": [
    "import sys\n",
    "\n",
    "print(\"Python version\")\n",
    "print(sys.version)"
   ]
  },
  {
   "cell_type": "code",
   "execution_count": null,
   "id": "1ad0de79-2199-45f2-9d09-b269fe3dff8d",
   "metadata": {},
   "outputs": [],
   "source": []
  },
  {
   "cell_type": "code",
   "execution_count": null,
   "id": "c3473f5c-15d3-481f-b61a-955fe1cf01b8",
   "metadata": {},
   "outputs": [],
   "source": []
  },
  {
   "cell_type": "code",
   "execution_count": null,
   "id": "5d8ddea7-d41e-4ded-a2cb-887423da0855",
   "metadata": {},
   "outputs": [],
   "source": [
    "Q.9 Python supports the creation of anonymous function at runtime, using a construct called?"
   ]
  },
  {
   "cell_type": "code",
   "execution_count": null,
   "id": "fb7d5d5a-e6e6-4655-bf56-803a4021124e",
   "metadata": {},
   "outputs": [],
   "source": [
    "                                            ANSWER-9"
   ]
  },
  {
   "cell_type": "code",
   "execution_count": null,
   "id": "d7549bfb-a217-4c72-9dbc-42abae303176",
   "metadata": {},
   "outputs": [],
   "source": [
    "Python supports the creation of anonymous function at runtime, using a construct called Lambda function"
   ]
  },
  {
   "cell_type": "code",
   "execution_count": null,
   "id": "3b3710cd-92b1-4c19-8239-be3b2135885f",
   "metadata": {},
   "outputs": [],
   "source": []
  },
  {
   "cell_type": "code",
   "execution_count": null,
   "id": "9cc8ddf0-49c7-49e7-8338-fac1e61f0dbe",
   "metadata": {},
   "outputs": [],
   "source": []
  },
  {
   "cell_type": "code",
   "execution_count": null,
   "id": "ddfa04ef-ea6c-4167-8e3c-52b0ca01bb25",
   "metadata": {},
   "outputs": [],
   "source": []
  },
  {
   "cell_type": "code",
   "execution_count": null,
   "id": "e9fa89b5-c5f1-4376-b199-b6f5263af9c2",
   "metadata": {},
   "outputs": [],
   "source": [
    "Q.10 What is pip stand for python?"
   ]
  },
  {
   "cell_type": "code",
   "execution_count": null,
   "id": "57ae805b-3ffe-41ff-b814-e65eb0c70066",
   "metadata": {},
   "outputs": [],
   "source": [
    "                                            ANSWER-10"
   ]
  },
  {
   "cell_type": "code",
   "execution_count": null,
   "id": "9080725c-61cb-425c-be9f-9a020c981ce7",
   "metadata": {},
   "outputs": [],
   "source": [
    "PIP stands for \"Pip Installs Packages\""
   ]
  },
  {
   "cell_type": "code",
   "execution_count": null,
   "id": "35f10acf-efbc-4bc2-978f-1ec6a5bd27e2",
   "metadata": {},
   "outputs": [],
   "source": []
  },
  {
   "cell_type": "code",
   "execution_count": null,
   "id": "b819a378-86a2-4e77-b894-b19dc31d723f",
   "metadata": {},
   "outputs": [],
   "source": []
  },
  {
   "cell_type": "code",
   "execution_count": null,
   "id": "58bbd1a5-9c12-4900-bea2-6d6a5e6e119d",
   "metadata": {},
   "outputs": [],
   "source": [
    "Q.11 Mention few built in function in python?"
   ]
  },
  {
   "cell_type": "code",
   "execution_count": null,
   "id": "ad7ad770-f767-48a9-b1c6-aa82d8720214",
   "metadata": {},
   "outputs": [],
   "source": [
    "                                            ANSWER-11"
   ]
  },
  {
   "cell_type": "code",
   "execution_count": null,
   "id": "b7713b81-4df1-4d2f-be61-0356cdafa9dc",
   "metadata": {},
   "outputs": [],
   "source": [
    "The few built in function in python is : \n",
    "print(), type(), int(), len() & sum() etc"
   ]
  },
  {
   "cell_type": "code",
   "execution_count": null,
   "id": "2eea9e1c-b496-40de-a229-ea00c79d1f15",
   "metadata": {},
   "outputs": [],
   "source": []
  },
  {
   "cell_type": "code",
   "execution_count": null,
   "id": "702b63b2-ec51-4f9a-a9a4-6470d8ad948b",
   "metadata": {},
   "outputs": [],
   "source": []
  },
  {
   "cell_type": "code",
   "execution_count": null,
   "id": "42f911a2-2118-45d1-8dbf-71b1cc0c0f97",
   "metadata": {},
   "outputs": [],
   "source": [
    "Q.12 What is the possible maximum lenght of identifiers in python?"
   ]
  },
  {
   "cell_type": "code",
   "execution_count": null,
   "id": "87c841ba-eafc-4939-a087-2d59ceb5ddbe",
   "metadata": {},
   "outputs": [],
   "source": [
    "                                            ANSWER-12"
   ]
  },
  {
   "cell_type": "code",
   "execution_count": null,
   "id": "843b4d95-6e22-4a1e-a568-0d2d96c1c8d7",
   "metadata": {},
   "outputs": [],
   "source": [
    "In Python, the maximum length of an identifier (variable, function, class, etc. name) is technically unlimited. But, It is recommeded to put the variable name shorter and easily understandable by coders."
   ]
  },
  {
   "cell_type": "code",
   "execution_count": null,
   "id": "d8564dcb-dcf4-4ab2-aca2-760b86653bb1",
   "metadata": {},
   "outputs": [],
   "source": []
  },
  {
   "cell_type": "code",
   "execution_count": null,
   "id": "329e73a6-429f-4596-b705-25979a9c62a9",
   "metadata": {},
   "outputs": [],
   "source": []
  },
  {
   "cell_type": "code",
   "execution_count": null,
   "id": "0eac0ea7-5042-4962-ba65-223979cfac73",
   "metadata": {},
   "outputs": [],
   "source": [
    "Q.13 What are benefit of Using python?"
   ]
  },
  {
   "cell_type": "code",
   "execution_count": null,
   "id": "189ed02c-fba9-4eab-9926-24e534ec1775",
   "metadata": {},
   "outputs": [],
   "source": [
    "                                            ANSWER-13"
   ]
  },
  {
   "cell_type": "code",
   "execution_count": null,
   "id": "476a8a7f-5eb4-4814-8ff3-87527b54aa7e",
   "metadata": {},
   "outputs": [],
   "source": [
    "1. Python Language is easier to understand as compared to other programs."
   ]
  },
  {
   "cell_type": "code",
   "execution_count": null,
   "id": "7d7563ec-9d16-4e9a-8730-1b146b2a07b7",
   "metadata": {},
   "outputs": [],
   "source": [
    "2. Pythons has large no. of standard library."
   ]
  },
  {
   "cell_type": "code",
   "execution_count": null,
   "id": "d3b1fce8-fc8e-47fa-b875-09afb3852bde",
   "metadata": {},
   "outputs": [],
   "source": [
    "3. Python has large and active community of developers. Since, it is easier to understand."
   ]
  },
  {
   "cell_type": "code",
   "execution_count": null,
   "id": "2bfb2658-9844-4be4-8331-404fb6dba8e1",
   "metadata": {},
   "outputs": [],
   "source": [
    "4. It is high level language."
   ]
  },
  {
   "cell_type": "code",
   "execution_count": null,
   "id": "95e163be-97eb-4275-833a-b669f8f60913",
   "metadata": {},
   "outputs": [],
   "source": [
    "5. Python code can be run on a variety of platforms, including Windows, Linux, and macOS."
   ]
  },
  {
   "cell_type": "code",
   "execution_count": null,
   "id": "847b8950-a7a6-4f4d-9a73-0998e969f4d4",
   "metadata": {},
   "outputs": [],
   "source": []
  },
  {
   "cell_type": "code",
   "execution_count": null,
   "id": "d0629f0a-1adb-46e6-a68d-a5dbd40f2bc3",
   "metadata": {},
   "outputs": [],
   "source": []
  },
  {
   "cell_type": "code",
   "execution_count": null,
   "id": "3b886767-6313-4c99-a7e0-14433c997bdc",
   "metadata": {},
   "outputs": [],
   "source": [
    "Q.14 How is memory managed in python."
   ]
  },
  {
   "cell_type": "code",
   "execution_count": null,
   "id": "223af80b-ece5-4f74-926a-5b9c64b2bcfb",
   "metadata": {},
   "outputs": [],
   "source": [
    "                                            ANSWER-14"
   ]
  },
  {
   "cell_type": "code",
   "execution_count": null,
   "id": "2e9ea6ae-d9ba-428b-8b77-753b9443a559",
   "metadata": {},
   "outputs": [],
   "source": [
    "Python removes those objects that are no longer in use or can say that it frees up the memory space. This process of vanish the unnecessary objects memory space is called the Garbage Collector."
   ]
  },
  {
   "cell_type": "code",
   "execution_count": null,
   "id": "dd998c7c-22fe-4567-8735-e0c9943f07e1",
   "metadata": {},
   "outputs": [],
   "source": [
    "Python uses a technique called \"reference counting\" to keep track of the number of references to an object. When an object is created, Python assigns a reference count to it, which is increased each time the object is assigned to a new variable or used as an argument to a function. When an objects reference count drops to zero, it is considered no longer in use and is automatically deleted by the garbage collector."
   ]
  },
  {
   "cell_type": "code",
   "execution_count": null,
   "id": "f8cd003f-5d37-43c0-8661-1d6c3844de8e",
   "metadata": {},
   "outputs": [],
   "source": []
  },
  {
   "cell_type": "code",
   "execution_count": null,
   "id": "31f0b765-b304-4b52-b7dc-e6a7cb07a4f1",
   "metadata": {},
   "outputs": [],
   "source": []
  },
  {
   "cell_type": "code",
   "execution_count": null,
   "id": "7874eab5-6f58-436b-80e3-873e053254fe",
   "metadata": {},
   "outputs": [],
   "source": [
    "Q.15 How to install Pythons on windows and set path variable?"
   ]
  },
  {
   "cell_type": "code",
   "execution_count": null,
   "id": "f419dfd1-ac01-4293-85a9-9bf79d1df9b2",
   "metadata": {},
   "outputs": [],
   "source": [
    "                                            ANSWER-15"
   ]
  },
  {
   "cell_type": "code",
   "execution_count": null,
   "id": "fe7466f0-b372-40c7-9aca-08676ca82617",
   "metadata": {},
   "outputs": [],
   "source": [
    "1. Download the latest version of Python for Windows from the official Python website: https://www.python.org/downloads/windows/"
   ]
  },
  {
   "cell_type": "code",
   "execution_count": null,
   "id": "b9e857cf-31e6-4476-870a-a51b60c03474",
   "metadata": {},
   "outputs": [],
   "source": [
    "2. Run the installer and select \"Add Python to PATH\" during the installation process. This will add the Python executable to your systems PATH environment variable, which allows you to run Python from any command prompt without specifying the full path to the executable."
   ]
  },
  {
   "cell_type": "code",
   "execution_count": null,
   "id": "5092def2-cad5-4e51-bab9-3bf737a48a54",
   "metadata": {},
   "outputs": [],
   "source": [
    "3. After the installation is complete, open the Command Prompt or PowerShell and type \"python --version\" to confirm that Python is installed correctly and to check the version number."
   ]
  },
  {
   "cell_type": "code",
   "execution_count": null,
   "id": "1f45a17c-4ba8-4cd0-9f28-83e5131cd663",
   "metadata": {},
   "outputs": [],
   "source": [
    "4. To set the PATH variable manually, go to the Control Panel and open the System Properties window. Click on the \"Advanced system settings\" link and then click the \"Environment Variables\" button."
   ]
  },
  {
   "cell_type": "code",
   "execution_count": null,
   "id": "4b99bdcd-82b1-4569-af85-205226a2305b",
   "metadata": {},
   "outputs": [],
   "source": [
    "5. Under \"System Variables,\" scroll down to find the \"Path\" variable and click on the \"Edit\" button."
   ]
  },
  {
   "cell_type": "code",
   "execution_count": null,
   "id": "21ef922d-d546-43c5-a38f-e3ad53e292f5",
   "metadata": {},
   "outputs": [],
   "source": [
    "6. Add the path to the Python executable directory (typically C:\\PythonXX, where XX is the version number) to the \"Path\" variable. Separate the paths with a semicolon (;)."
   ]
  },
  {
   "cell_type": "code",
   "execution_count": null,
   "id": "715d0b77-8c71-4f36-a3bb-445c98d9e02b",
   "metadata": {},
   "outputs": [],
   "source": [
    "7. Click \"OK\" to close all the windows."
   ]
  },
  {
   "cell_type": "code",
   "execution_count": null,
   "id": "4e1d1bc9-088e-4aa9-b93b-57a3ee70f15f",
   "metadata": {},
   "outputs": [],
   "source": [
    "8. Open a new command prompt or PowerShell window and type \"python --version\" to confirm that the PATH variable has been set correctly."
   ]
  },
  {
   "cell_type": "code",
   "execution_count": null,
   "id": "dd7930f6-86d7-4b38-a7e6-014704212b8d",
   "metadata": {},
   "outputs": [],
   "source": []
  },
  {
   "cell_type": "code",
   "execution_count": null,
   "id": "93956dfe-511e-4018-9e67-ace52d841393",
   "metadata": {},
   "outputs": [],
   "source": []
  },
  {
   "cell_type": "code",
   "execution_count": null,
   "id": "d417c15f-6c60-448d-ba83-2905c012514c",
   "metadata": {},
   "outputs": [],
   "source": [
    "Q.16  is Indentation required in python?"
   ]
  },
  {
   "cell_type": "code",
   "execution_count": null,
   "id": "9d5a5dfa-50dc-466e-86d1-e4122738faf7",
   "metadata": {},
   "outputs": [],
   "source": [
    "                                            ANSWER-16"
   ]
  },
  {
   "cell_type": "code",
   "execution_count": null,
   "id": "939a8390-c5a0-48f1-968e-303cbac02f5d",
   "metadata": {},
   "outputs": [],
   "source": [
    "yes, Indentation is most important part of python programming. Indentation is used to indicate blocks of code that belong together, such as the body of a loop or a function."
   ]
  }
 ],
 "metadata": {
  "kernelspec": {
   "display_name": "Python 3 (ipykernel)",
   "language": "python",
   "name": "python3"
  },
  "language_info": {
   "codemirror_mode": {
    "name": "ipython",
    "version": 3
   },
   "file_extension": ".py",
   "mimetype": "text/x-python",
   "name": "python",
   "nbconvert_exporter": "python",
   "pygments_lexer": "ipython3",
   "version": "3.10.8"
  }
 },
 "nbformat": 4,
 "nbformat_minor": 5
}
