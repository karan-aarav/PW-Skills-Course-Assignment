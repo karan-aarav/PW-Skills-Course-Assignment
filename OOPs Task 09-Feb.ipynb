{
 "cells": [
  {
   "cell_type": "code",
   "execution_count": null,
   "id": "8ce8126e-ac20-4919-91dc-957ee4f05046",
   "metadata": {},
   "outputs": [],
   "source": [
    "Q1. Create a vehicle class with an init method having instance variables as name_of_vehicle, max_speed\n",
    "and average_of_vehicle."
   ]
  },
  {
   "cell_type": "code",
   "execution_count": null,
   "id": "4c0874ba-d886-409b-b014-4c02aeb290bf",
   "metadata": {},
   "outputs": [],
   "source": [
    "                                        ANSWER-1"
   ]
  },
  {
   "cell_type": "code",
   "execution_count": 3,
   "id": "a4e2d926-1b5c-4ca0-b722-11277f6f5893",
   "metadata": {},
   "outputs": [],
   "source": [
    "class vehicle:\n",
    "    def __init__ (self, name_of_vehicle, max_speed, average_of_vehicle):\n",
    "        self.name_of_vehicle = name_of_vehicle\n",
    "        self.max_speed = max_speed\n",
    "        self.average_of_vehicle = average_of_vehicle"
   ]
  },
  {
   "cell_type": "code",
   "execution_count": 6,
   "id": "00a7685d-63d1-4e6f-9e5a-20640077c49d",
   "metadata": {},
   "outputs": [],
   "source": [
    "car=vehicle(\"toyota\", 300, 50)"
   ]
  },
  {
   "cell_type": "code",
   "execution_count": 9,
   "id": "aa27e17e-ec73-49ea-a62c-e1abc7526d12",
   "metadata": {},
   "outputs": [
    {
     "data": {
      "text/plain": [
       "300"
      ]
     },
     "execution_count": 9,
     "metadata": {},
     "output_type": "execute_result"
    }
   ],
   "source": [
    "car.max_speed"
   ]
  },
  {
   "cell_type": "code",
   "execution_count": null,
   "id": "fe721a3d-1f00-4173-9ff8-96c2e1c567b2",
   "metadata": {},
   "outputs": [],
   "source": []
  },
  {
   "cell_type": "code",
   "execution_count": null,
   "id": "317c5446-7cdc-4099-bdb7-30761a7acf32",
   "metadata": {},
   "outputs": [],
   "source": []
  },
  {
   "cell_type": "code",
   "execution_count": null,
   "id": "ea442f47-2508-4bcc-a650-445a904fe86d",
   "metadata": {},
   "outputs": [],
   "source": []
  },
  {
   "cell_type": "code",
   "execution_count": null,
   "id": "1c1e1d21-43c0-4da1-b05d-2e0cf025a462",
   "metadata": {},
   "outputs": [],
   "source": [
    "Q2. Create a child class car from the vehicle class created in Question 1, which will inherit the vehicle class.\n",
    "Create a method named seating_capacity which takes capacity as an argument and returns the name of\n",
    "the vehicle and its seating capacity."
   ]
  },
  {
   "cell_type": "code",
   "execution_count": null,
   "id": "cc4449eb-a62a-4494-b0de-4b4875c1a6c7",
   "metadata": {},
   "outputs": [],
   "source": [
    "                                            ANSWER-2"
   ]
  },
  {
   "cell_type": "code",
   "execution_count": 10,
   "id": "14d83cb4-e0c0-49f6-af19-33c3ce543685",
   "metadata": {},
   "outputs": [],
   "source": [
    "class vehicle:\n",
    "    def __init__ (self, name_of_vehicle, max_speed, average_of_vehicle):\n",
    "        self.name_of_vehicle = name_of_vehicle\n",
    "        self.max_speed = max_speed\n",
    "        self.average_of_vehicle = average_of_vehicle"
   ]
  },
  {
   "cell_type": "code",
   "execution_count": 27,
   "id": "d71969d8-f209-4e0e-82be-e401114a13e2",
   "metadata": {},
   "outputs": [],
   "source": [
    "class car(vehicle):\n",
    "    def seating_capacity(self, capacity):\n",
    "        return f\"The seating Capacity of {self.name_of_vehicle}  is  {capacity} \""
   ]
  },
  {
   "cell_type": "code",
   "execution_count": 28,
   "id": "ac0326cc-50b5-4a1b-ac5f-3ac6ea184955",
   "metadata": {},
   "outputs": [],
   "source": [
    "c= car(\"toyota\", 300, 50)"
   ]
  },
  {
   "cell_type": "code",
   "execution_count": 29,
   "id": "c2ff4ee7-1f66-4b45-8432-48aacf118141",
   "metadata": {},
   "outputs": [],
   "source": [
    "seating_capacity=c.seating_capacity(4)"
   ]
  },
  {
   "cell_type": "code",
   "execution_count": 30,
   "id": "9812bc21-3f07-4c7b-9ee2-379fc6984a21",
   "metadata": {},
   "outputs": [
    {
     "name": "stdout",
     "output_type": "stream",
     "text": [
      "The seating Capacity of toyota  is  4 \n"
     ]
    }
   ],
   "source": [
    "print(seating_capacity)"
   ]
  },
  {
   "cell_type": "code",
   "execution_count": null,
   "id": "c4172376-a78b-4d00-9289-964d189b984a",
   "metadata": {},
   "outputs": [],
   "source": []
  },
  {
   "cell_type": "code",
   "execution_count": null,
   "id": "cff349fa-2516-4fba-8228-4979bc5e0dee",
   "metadata": {},
   "outputs": [],
   "source": []
  },
  {
   "cell_type": "code",
   "execution_count": null,
   "id": "315ca3cb-90af-4a72-b794-694874796cf6",
   "metadata": {},
   "outputs": [],
   "source": []
  },
  {
   "cell_type": "code",
   "execution_count": null,
   "id": "28f27dc6-9318-4398-904a-3da335c9b27c",
   "metadata": {},
   "outputs": [],
   "source": [
    "Q3. What is multiple inheritance? Write a python code to demonstrate multiple inheritance."
   ]
  },
  {
   "cell_type": "code",
   "execution_count": null,
   "id": "bc34cc5a-879b-4a99-9985-d7d205f80695",
   "metadata": {},
   "outputs": [],
   "source": [
    "                                    ANSWER-3"
   ]
  },
  {
   "cell_type": "code",
   "execution_count": 31,
   "id": "4f75cac6-63e8-4399-a8b6-879429a56738",
   "metadata": {},
   "outputs": [],
   "source": [
    "class class1:\n",
    "     \n",
    "        def test_class1(self):\n",
    "            return \"this is class 1\"\n",
    "\n",
    "class class2:\n",
    "    \n",
    "    def test_class2(self):\n",
    "        return \"this is class 2\"\n",
    "\n",
    "class class3(class1, class2): ## Both class is inheritence is multiple inheritence\n",
    "    pass"
   ]
  },
  {
   "cell_type": "code",
   "execution_count": 32,
   "id": "9b9e7e7f-3884-4607-9358-95f4f20241c3",
   "metadata": {},
   "outputs": [],
   "source": [
    "class3.object = class3()"
   ]
  },
  {
   "cell_type": "code",
   "execution_count": 36,
   "id": "dbc2ab15-12e1-49ce-b515-4a248dbe27ac",
   "metadata": {},
   "outputs": [
    {
     "data": {
      "text/plain": [
       "'this is class 1'"
      ]
     },
     "execution_count": 36,
     "metadata": {},
     "output_type": "execute_result"
    }
   ],
   "source": [
    "class3.object.test_class1()"
   ]
  },
  {
   "cell_type": "code",
   "execution_count": null,
   "id": "333d1d22-8086-488e-aebf-3b822138408f",
   "metadata": {},
   "outputs": [],
   "source": []
  },
  {
   "cell_type": "code",
   "execution_count": null,
   "id": "46f1bb61-8e28-45ca-bb01-b1794c2707e8",
   "metadata": {},
   "outputs": [],
   "source": []
  },
  {
   "cell_type": "code",
   "execution_count": null,
   "id": "af8c5d5b-7497-43b5-a99e-6c2d9a11676f",
   "metadata": {},
   "outputs": [],
   "source": []
  },
  {
   "cell_type": "code",
   "execution_count": null,
   "id": "ac4d6586-c839-46a7-a77d-bb240ac15e81",
   "metadata": {},
   "outputs": [],
   "source": [
    "Q4. What are getter and setter in python? Create a class and create a getter and a setter method in this\n",
    "class."
   ]
  },
  {
   "cell_type": "code",
   "execution_count": null,
   "id": "a6c6b8f0-57a6-433d-8be2-1ed024a0bf03",
   "metadata": {},
   "outputs": [],
   "source": [
    "                                        ANSWER-4"
   ]
  },
  {
   "cell_type": "code",
   "execution_count": null,
   "id": "ff7777b6-eba5-4786-a495-156aef70eaba",
   "metadata": {},
   "outputs": [],
   "source": [
    "Getters are typically used to get the value of an attribute."
   ]
  },
  {
   "cell_type": "code",
   "execution_count": null,
   "id": "c36cac53-d596-4dd3-8dff-f9a2af8fe9f4",
   "metadata": {},
   "outputs": [],
   "source": [
    "while, setters are typically used to set the value of an attribute."
   ]
  },
  {
   "cell_type": "code",
   "execution_count": 41,
   "id": "a4a9f008-0fd9-4850-884b-60eca3f88a09",
   "metadata": {},
   "outputs": [],
   "source": [
    "class person:\n",
    "    def __init__(self, name, age):\n",
    "        self.__name= name\n",
    "        self.__age=age\n",
    "\n",
    "    @property\n",
    "    def age(self):\n",
    "        return self.__age\n",
    "    \n",
    "    @age.setter\n",
    "    def age_set(self, ages):\n",
    "        self.__age= ages"
   ]
  },
  {
   "cell_type": "code",
   "execution_count": 42,
   "id": "5c0b2749-48a9-4433-8358-4ad25a554b8b",
   "metadata": {},
   "outputs": [],
   "source": [
    "p=person(\"karan\", 30)"
   ]
  },
  {
   "cell_type": "code",
   "execution_count": 43,
   "id": "cbc245e4-a4dc-4c7c-9c3b-4a3104dbc4c9",
   "metadata": {},
   "outputs": [
    {
     "data": {
      "text/plain": [
       "30"
      ]
     },
     "execution_count": 43,
     "metadata": {},
     "output_type": "execute_result"
    }
   ],
   "source": [
    "p.age"
   ]
  },
  {
   "cell_type": "code",
   "execution_count": 47,
   "id": "b9d10b00-c60f-452e-96c0-88e2faf0c985",
   "metadata": {},
   "outputs": [],
   "source": [
    "p.age_set=20"
   ]
  },
  {
   "cell_type": "code",
   "execution_count": 49,
   "id": "90739aaa-ac54-4539-9399-7e669011bed5",
   "metadata": {},
   "outputs": [
    {
     "data": {
      "text/plain": [
       "20"
      ]
     },
     "execution_count": 49,
     "metadata": {},
     "output_type": "execute_result"
    }
   ],
   "source": [
    "p.age"
   ]
  },
  {
   "cell_type": "code",
   "execution_count": null,
   "id": "ad7ef5ee-3dda-472a-a4d5-be20e2db3856",
   "metadata": {},
   "outputs": [],
   "source": []
  },
  {
   "cell_type": "code",
   "execution_count": null,
   "id": "e9c16272-8035-4681-a9ad-c1993cf83618",
   "metadata": {},
   "outputs": [],
   "source": []
  },
  {
   "cell_type": "code",
   "execution_count": null,
   "id": "0a5b457b-9990-4dc6-b9ac-9e2ca7194022",
   "metadata": {},
   "outputs": [],
   "source": []
  },
  {
   "cell_type": "code",
   "execution_count": null,
   "id": "63939d06-aed3-440d-a821-01ff91e57f7f",
   "metadata": {},
   "outputs": [],
   "source": [
    "Q5.What is method overriding in python? Write a python code to demonstrate method overriding."
   ]
  },
  {
   "cell_type": "code",
   "execution_count": null,
   "id": "ea0f883e-cf73-4255-a647-1326134ec673",
   "metadata": {},
   "outputs": [],
   "source": [
    "                                            ANSWER-5"
   ]
  },
  {
   "cell_type": "code",
   "execution_count": null,
   "id": "6e1f8702-ed89-44ec-abb7-5347bb473246",
   "metadata": {},
   "outputs": [],
   "source": [
    "Method overriding is a feature of object-oriented programming that allows a child class to provide its own \n",
    "implementation of a method that is defined in its parent class. "
   ]
  },
  {
   "cell_type": "code",
   "execution_count": 1,
   "id": "bdb909de-7d8b-4b46-8a6c-edc7c696444d",
   "metadata": {},
   "outputs": [],
   "source": [
    "class Parent:\n",
    "    def greet(self):\n",
    "        print(\"Hello, I'm the parent class\")\n",
    "\n",
    "\n",
    "class Child(Parent):\n",
    "    def greet(self):\n",
    "        print(\"Hello, I'm the child class\")\n"
   ]
  },
  {
   "cell_type": "code",
   "execution_count": 2,
   "id": "a5642c85-a3db-48ed-bccf-6f93a709bcb1",
   "metadata": {},
   "outputs": [
    {
     "name": "stdout",
     "output_type": "stream",
     "text": [
      "Hello, I'm the parent class\n"
     ]
    }
   ],
   "source": [
    "parent = Parent()\n",
    "parent.greet()  "
   ]
  },
  {
   "cell_type": "code",
   "execution_count": 4,
   "id": "46dc7870-131b-4376-a60b-0f80f7facad6",
   "metadata": {},
   "outputs": [
    {
     "name": "stdout",
     "output_type": "stream",
     "text": [
      "Hello, I'm the child class\n"
     ]
    }
   ],
   "source": [
    "child= Child()\n",
    "child.greet()"
   ]
  },
  {
   "cell_type": "code",
   "execution_count": null,
   "id": "ae6d57e6-cf03-4dd4-a969-627b20d28198",
   "metadata": {},
   "outputs": [],
   "source": []
  }
 ],
 "metadata": {
  "kernelspec": {
   "display_name": "Python 3 (ipykernel)",
   "language": "python",
   "name": "python3"
  },
  "language_info": {
   "codemirror_mode": {
    "name": "ipython",
    "version": 3
   },
   "file_extension": ".py",
   "mimetype": "text/x-python",
   "name": "python",
   "nbconvert_exporter": "python",
   "pygments_lexer": "ipython3",
   "version": "3.10.8"
  }
 },
 "nbformat": 4,
 "nbformat_minor": 5
}
