{
 "cells": [
  {
   "cell_type": "code",
   "execution_count": null,
   "id": "22aa615a-1c76-4db7-99f6-6d6fe120fbb0",
   "metadata": {},
   "outputs": [],
   "source": [
    "Q1. You are writing code for a company. The requirement of the company is that you create a python\n",
    "function that will check whether the password entered by the user is correct or not. The function should\n",
    "take the password as input and return the string “Valid Password” if the entered password follows the\n",
    "below-given password guidelines else it should return “Invalid Password”.\n",
    "\n",
    "Note: 1. The Password should contain at least two uppercase letters and at least two lowercase letters.\n",
    "2. The Password should contain at least a number and three special characters.\n",
    "3. The length of the password should be 10 characters long."
   ]
  },
  {
   "cell_type": "code",
   "execution_count": null,
   "id": "ec021d9f-82a2-4674-99c5-5d5abc056f6a",
   "metadata": {},
   "outputs": [],
   "source": []
  },
  {
   "cell_type": "code",
   "execution_count": null,
   "id": "5c41010e-697c-4cf6-95fd-624a5cbc9d50",
   "metadata": {},
   "outputs": [],
   "source": [
    "                                            ANSWER-1"
   ]
  },
  {
   "cell_type": "code",
   "execution_count": 1,
   "id": "7f3d7f82-dc84-4acd-be29-27fc0b417db6",
   "metadata": {},
   "outputs": [
    {
     "name": "stdin",
     "output_type": "stream",
     "text": [
      "Enter your password:  UUll5{@}re\n"
     ]
    },
    {
     "name": "stdout",
     "output_type": "stream",
     "text": [
      "Valid Password\n"
     ]
    }
   ],
   "source": [
    "password=input(\"Enter your password: \")\n",
    "\n",
    "def check_password(password):\n",
    "    \n",
    "    if len(password)!= 10:\n",
    "        return \"invalid Password\"\n",
    "    \n",
    "    upper_char=0\n",
    "    lower_char=0\n",
    "    digit=0\n",
    "    special_char=0\n",
    "    for char in password:\n",
    "        if char.isupper():\n",
    "            upper_char+=1\n",
    "        if char.islower():\n",
    "            lower_char+=1\n",
    "        if char.isdigit():\n",
    "            digit+=1\n",
    "        if not char.isalnum():\n",
    "            special_char+=1\n",
    "    \n",
    "    if upper_char>=2 and lower_char>=2 and digit>=1 and special_char>=3:\n",
    "        return \"Valid Password\"\n",
    "    return \"Invalid Password\"\n",
    "\n",
    "print(check_password(password))"
   ]
  },
  {
   "cell_type": "code",
   "execution_count": null,
   "id": "4107b183-5503-4637-9a1c-0ae73d256c36",
   "metadata": {},
   "outputs": [],
   "source": []
  },
  {
   "cell_type": "code",
   "execution_count": null,
   "id": "b260e3a2-5abf-4945-a869-55a3d62d85bd",
   "metadata": {},
   "outputs": [],
   "source": []
  },
  {
   "cell_type": "code",
   "execution_count": null,
   "id": "8ed1cc52-8e3e-4d0c-8bcd-7e0dceceb139",
   "metadata": {},
   "outputs": [],
   "source": [
    "Q2. Solve the below-given questions using at least one of the following:\n",
    "1. Lambda function\n",
    "2. Filter function\n",
    "3. map function\n",
    "4. List Comprehension"
   ]
  },
  {
   "cell_type": "code",
   "execution_count": 2,
   "id": "9d49b080-a1c0-4a14-a310-f7e4a43c8d50",
   "metadata": {},
   "outputs": [
    {
     "name": "stdin",
     "output_type": "stream",
     "text": [
      "Enter the string:  karan\n",
      "Enter the first letter to check:  k\n"
     ]
    },
    {
     "name": "stdout",
     "output_type": "stream",
     "text": [
      "The string starts with k\n"
     ]
    }
   ],
   "source": [
    "## Check if the string starts with a particular letter\n",
    "\n",
    "string = input(\"Enter the string: \")\n",
    "start = input(\"Enter the first letter to check: \")\n",
    "\n",
    "# Define a lambda function to check if the string starts with the given letter\n",
    "starts_with = lambda s, l: s[0].lower() == l.lower()\n",
    "\n",
    "if starts_with(string, start):\n",
    "    print(\"The string starts with\", start)\n",
    "else:\n",
    "    print(\"The string does not start with \", start)"
   ]
  },
  {
   "cell_type": "code",
   "execution_count": null,
   "id": "e95387f0-b01d-443e-8564-076df8d3e526",
   "metadata": {},
   "outputs": [],
   "source": []
  },
  {
   "cell_type": "code",
   "execution_count": 3,
   "id": "48feec76-4035-45e4-9a3a-a30571f81db3",
   "metadata": {},
   "outputs": [
    {
     "name": "stdin",
     "output_type": "stream",
     "text": [
      "Enter a string:  123243542\n"
     ]
    },
    {
     "name": "stdout",
     "output_type": "stream",
     "text": [
      "The string is numeric\n"
     ]
    }
   ],
   "source": [
    "## Check if the string is numeric\n",
    "\n",
    "string = input(\"Enter a string: \")\n",
    "\n",
    "is_numeric = lambda s: s.isdigit()\n",
    "\n",
    "if is_numeric(string):\n",
    "    print(\"The string is numeric\")\n",
    "else:\n",
    "    print(\"The string is not numeric\")"
   ]
  },
  {
   "cell_type": "code",
   "execution_count": null,
   "id": "78d0865f-e93f-40bd-aa32-b624b0811822",
   "metadata": {},
   "outputs": [],
   "source": []
  },
  {
   "cell_type": "code",
   "execution_count": 4,
   "id": "8ba39dba-b29c-4e8f-a80c-ef374b7bab29",
   "metadata": {},
   "outputs": [
    {
     "name": "stdout",
     "output_type": "stream",
     "text": [
      "[('orange', 80), ('mango', 99), ('grapes', 1000)]\n"
     ]
    }
   ],
   "source": [
    "## Sort a list of tuples having fruit names and their quantity. [(\"mango\",99),(\"orange\",80), (\"grapes\", 1000)]\n",
    "\n",
    "fruits=[(\"mango\",99),(\"orange\",80), (\"grapes\", 1000)]\n",
    "## sort the fruit using sorted function\n",
    "sorted_data= sorted(fruits, key=lambda x: x[1])\n",
    "print(sorted_data)"
   ]
  },
  {
   "cell_type": "code",
   "execution_count": null,
   "id": "8a73747a-86bd-4342-8236-5604fa1ed909",
   "metadata": {},
   "outputs": [],
   "source": []
  },
  {
   "cell_type": "code",
   "execution_count": 5,
   "id": "16e2def6-3c0d-4776-a126-d7c9f0c58907",
   "metadata": {},
   "outputs": [
    {
     "name": "stdout",
     "output_type": "stream",
     "text": [
      "[1, 4, 9, 16, 25, 36, 49, 64, 81, 100]\n"
     ]
    }
   ],
   "source": [
    "## Find the squares of numbers from 1 to 10.\n",
    "\n",
    "lst=list(range(1,11))\n",
    "\n",
    "square=list(map(lambda x: x**2, lst))\n",
    "print(square)"
   ]
  },
  {
   "cell_type": "code",
   "execution_count": null,
   "id": "da76cddd-c60f-4d04-a83e-74997257e2e6",
   "metadata": {},
   "outputs": [],
   "source": []
  },
  {
   "cell_type": "code",
   "execution_count": 7,
   "id": "f42a6d6f-3331-4d44-8548-5bc4767d6ed8",
   "metadata": {},
   "outputs": [
    {
     "name": "stdout",
     "output_type": "stream",
     "text": [
      "[1.0, 1.2599210498948732, 1.4422495703074083, 1.5874010519681994, 1.7099759466766968, 1.8171205928321397, 1.912931182772389, 2.0, 2.080083823051904, 2.154434690031884]\n"
     ]
    }
   ],
   "source": [
    "## Find the cube root of numbers from 1 to 10.\n",
    "\n",
    "lst=list(range(1,11))\n",
    "cuberoot=list(map(lambda x: x**(1/3), lst))\n",
    "print(cuberoot)"
   ]
  },
  {
   "cell_type": "code",
   "execution_count": null,
   "id": "50a9ceca-cbe0-46a5-a685-2df17bb66cc8",
   "metadata": {},
   "outputs": [],
   "source": []
  },
  {
   "cell_type": "code",
   "execution_count": 9,
   "id": "7b1a2425-19f9-49e6-ab1c-f9fd94b6c7d4",
   "metadata": {},
   "outputs": [
    {
     "name": "stdin",
     "output_type": "stream",
     "text": [
      "Enter the number:  123243254\n"
     ]
    },
    {
     "name": "stdout",
     "output_type": "stream",
     "text": [
      "True\n"
     ]
    }
   ],
   "source": [
    "## Check if a given number is even.\n",
    "\n",
    "number=int(input(\"Enter the number: \"))\n",
    "result= lambda x: x%2==0\n",
    "print(result(number))"
   ]
  },
  {
   "cell_type": "code",
   "execution_count": null,
   "id": "4f45fd97-b913-4fe5-a0eb-eaea761fa132",
   "metadata": {},
   "outputs": [],
   "source": []
  },
  {
   "cell_type": "code",
   "execution_count": 10,
   "id": "0449b7f0-9faa-47e2-9c5f-fee59f6f6698",
   "metadata": {},
   "outputs": [
    {
     "name": "stdout",
     "output_type": "stream",
     "text": [
      "[1, 3, 5, 7, 9]\n"
     ]
    }
   ],
   "source": [
    "## Filter odd numbers from the given list.\n",
    "\n",
    "l=[1,2,3,4,5,6,7,8,9,10]\n",
    "odd_no= list(filter(lambda x: x%2==1, l))\n",
    "print(odd_no)"
   ]
  },
  {
   "cell_type": "code",
   "execution_count": null,
   "id": "d8c9af17-90e8-4fcd-b587-82000c3a64b7",
   "metadata": {},
   "outputs": [],
   "source": []
  },
  {
   "cell_type": "code",
   "execution_count": 11,
   "id": "61579e30-695a-453e-9f8e-6c98fbf7f61d",
   "metadata": {},
   "outputs": [
    {
     "name": "stdout",
     "output_type": "stream",
     "text": [
      "Positive list: [1, 2, 3, 4, 5, 6]\n",
      "Negative list: [-1, -2, -3, -4, -5]\n"
     ]
    }
   ],
   "source": [
    "## Sort a list of integers into positive and negative integers lists.\n",
    "\n",
    "l = [1, 2, 3, 4, 5, 6, -1, -2, -3, -4, -5, 0]\n",
    "\n",
    "positive_list = [i for i in l if i > 0]\n",
    "negative_list = [j for j in l if j < 0]\n",
    "\n",
    "print(\"Positive list:\", positive_list)\n",
    "print(\"Negative list:\", negative_list)"
   ]
  },
  {
   "cell_type": "code",
   "execution_count": null,
   "id": "ae5c9c8d-7d5c-4836-adb7-aabe3760cfb3",
   "metadata": {},
   "outputs": [],
   "source": []
  }
 ],
 "metadata": {
  "kernelspec": {
   "display_name": "Python 3 (ipykernel)",
   "language": "python",
   "name": "python3"
  },
  "language_info": {
   "codemirror_mode": {
    "name": "ipython",
    "version": 3
   },
   "file_extension": ".py",
   "mimetype": "text/x-python",
   "name": "python",
   "nbconvert_exporter": "python",
   "pygments_lexer": "ipython3",
   "version": "3.10.8"
  }
 },
 "nbformat": 4,
 "nbformat_minor": 5
}
