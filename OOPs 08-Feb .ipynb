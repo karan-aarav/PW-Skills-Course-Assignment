{
 "cells": [
  {
   "cell_type": "code",
   "execution_count": null,
   "id": "741adab8-f462-41c6-911f-76b462f91910",
   "metadata": {},
   "outputs": [],
   "source": [
    "Q1. What is Abstraction in OOps? Explain with an example?"
   ]
  },
  {
   "cell_type": "code",
   "execution_count": null,
   "id": "e42d3d3b-f3b6-4374-8962-16da8155f888",
   "metadata": {},
   "outputs": [],
   "source": [
    "                                                ANSWER-1"
   ]
  },
  {
   "cell_type": "code",
   "execution_count": null,
   "id": "83f5f2ca-1ed3-4504-b194-42f1bf21e3a4",
   "metadata": {},
   "outputs": [],
   "source": [
    "Abstraction is the process of hiding the implementation details of an object from its users."
   ]
  },
  {
   "cell_type": "code",
   "execution_count": 2,
   "id": "6ecef344-75a6-4d3a-a802-6705fb1b4989",
   "metadata": {},
   "outputs": [],
   "source": [
    "import abc\n",
    "class polygon:\n",
    "    \n",
    "    @abc.abstractmethod\n",
    "    def side(self):\n",
    "        pass"
   ]
  },
  {
   "cell_type": "code",
   "execution_count": 8,
   "id": "006f01f9-0009-4f3e-bfc3-49ba7adcc5c1",
   "metadata": {},
   "outputs": [],
   "source": [
    "class triangle(polygon):\n",
    "    def side(self):\n",
    "        return \"Triangle has 3 side.\""
   ]
  },
  {
   "cell_type": "code",
   "execution_count": 9,
   "id": "f1b2cb7c-87f3-4d08-bc8e-37e2c0556879",
   "metadata": {},
   "outputs": [],
   "source": [
    "class rectangle(polygon):\n",
    "    def side(self):\n",
    "        return \"Triangle has 4 side.\""
   ]
  },
  {
   "cell_type": "code",
   "execution_count": 10,
   "id": "d1cffb5d-a699-4193-8b49-33fae00869d9",
   "metadata": {},
   "outputs": [],
   "source": [
    "r=rectangle()"
   ]
  },
  {
   "cell_type": "code",
   "execution_count": 11,
   "id": "045212d6-4c10-4495-a109-767ca7957ff8",
   "metadata": {},
   "outputs": [],
   "source": [
    "t=triangle()"
   ]
  },
  {
   "cell_type": "code",
   "execution_count": 13,
   "id": "3bf93171-3724-421e-b355-f9cabb4872cd",
   "metadata": {},
   "outputs": [
    {
     "data": {
      "text/plain": [
       "'Triangle has 3 side.'"
      ]
     },
     "execution_count": 13,
     "metadata": {},
     "output_type": "execute_result"
    }
   ],
   "source": [
    "t.side()"
   ]
  },
  {
   "cell_type": "code",
   "execution_count": 14,
   "id": "d98058e7-50f7-4922-a437-788d30837829",
   "metadata": {},
   "outputs": [
    {
     "data": {
      "text/plain": [
       "'Triangle has 4 side.'"
      ]
     },
     "execution_count": 14,
     "metadata": {},
     "output_type": "execute_result"
    }
   ],
   "source": [
    "r.side()"
   ]
  },
  {
   "cell_type": "code",
   "execution_count": null,
   "id": "38505d42-2c04-4e5d-bc57-f9ec123cd18e",
   "metadata": {},
   "outputs": [],
   "source": [
    "The abstraction in this example is the side() method in the polygon class. The implementation of the side() method is hidden from the users of the polygon class. The users of the polygon class only need to know that the side() method exists and that it returns the number of sides of the polygon. They do not need to know how the side() method is implemented."
   ]
  },
  {
   "cell_type": "code",
   "execution_count": null,
   "id": "f2345cce-645f-4d82-bda7-98bb17599d2e",
   "metadata": {},
   "outputs": [],
   "source": []
  },
  {
   "cell_type": "code",
   "execution_count": null,
   "id": "f20a9a27-3f37-4ead-bb3b-8f890623a1da",
   "metadata": {},
   "outputs": [],
   "source": []
  },
  {
   "cell_type": "code",
   "execution_count": null,
   "id": "75bd81a3-200a-4ce7-a450-0788104fa03e",
   "metadata": {},
   "outputs": [],
   "source": []
  },
  {
   "cell_type": "code",
   "execution_count": null,
   "id": "b5254503-b735-4ca5-acc6-cacab2a7cfce",
   "metadata": {},
   "outputs": [],
   "source": [
    "Q2. Differentiate between Abstraction and Encapsulation. Explain with an example."
   ]
  },
  {
   "cell_type": "code",
   "execution_count": null,
   "id": "8489fb53-2c69-4320-b785-b32f5ce9d85d",
   "metadata": {},
   "outputs": [],
   "source": [
    "                                            ANSWER-2"
   ]
  },
  {
   "cell_type": "code",
   "execution_count": null,
   "id": "72c7ee19-16a9-46c4-8592-cd2394f49a94",
   "metadata": {},
   "outputs": [],
   "source": [
    "Encapsulation is the bundling of data and methods that operate on that data into a single unit. This helps to protect the data from unauthorized access and modification."
   ]
  },
  {
   "cell_type": "code",
   "execution_count": null,
   "id": "069ddee2-8e16-429c-942d-e1c434800824",
   "metadata": {},
   "outputs": [],
   "source": [
    "Whereas, Abstraction is the process of hiding the implementation details of an object from its users."
   ]
  },
  {
   "cell_type": "code",
   "execution_count": 1,
   "id": "f45d16a9-a6f9-4487-aa57-0f8b31bd8968",
   "metadata": {},
   "outputs": [],
   "source": [
    "class Car:\n",
    "\n",
    "    def __init__(self, make, model, year):\n",
    "        self.make = make\n",
    "        self.model = model\n",
    "        self.year = year\n",
    "\n",
    "    def drive(self):\n",
    "        print(\"The car is driving.\")\n",
    "\n",
    "    def stop(self):\n",
    "        print(\"The car is stopping.\")\n",
    "\n",
    "    def get_make(self):\n",
    "        return self.make\n",
    "\n",
    "    def set_make(self, make):\n",
    "        self.make = make"
   ]
  },
  {
   "cell_type": "code",
   "execution_count": null,
   "id": "99add537-eecc-4476-98dd-2ad48d20231b",
   "metadata": {},
   "outputs": [],
   "source": [
    "In the code you provided, the __make, __model, and __year attributes are private. This means that they can only be accessed by the methods of the Car class. This helps to protect the data from unauthorized access and modification."
   ]
  },
  {
   "cell_type": "code",
   "execution_count": 7,
   "id": "e47d4152-9029-4b6c-b194-25c12cc096ff",
   "metadata": {},
   "outputs": [],
   "source": [
    "import abc\n",
    "class car:\n",
    "    @abc.abstractmethod\n",
    "    def colour(self):\n",
    "        pass\n",
    "\n",
    "class toyota:\n",
    "    def colour(self):\n",
    "        return \"The Toyota Car is Red.\"\n",
    "    \n",
    "class maruti_suzuki:\n",
    "    def colour(self):\n",
    "        return \"The Maruti Suzuki is white.\"\n",
    "    \n",
    "t=toyota()    \n",
    "m=maruti_suzuki()"
   ]
  },
  {
   "cell_type": "code",
   "execution_count": 8,
   "id": "91ed1f8f-cbb6-401e-8280-9dfbea888b6a",
   "metadata": {},
   "outputs": [
    {
     "data": {
      "text/plain": [
       "'The Toyota Car is Red.'"
      ]
     },
     "execution_count": 8,
     "metadata": {},
     "output_type": "execute_result"
    }
   ],
   "source": [
    "t.colour()"
   ]
  },
  {
   "cell_type": "code",
   "execution_count": 9,
   "id": "b51743c9-c559-4738-8127-3c13993b7294",
   "metadata": {},
   "outputs": [
    {
     "data": {
      "text/plain": [
       "'The Maruti Suzuki is white.'"
      ]
     },
     "execution_count": 9,
     "metadata": {},
     "output_type": "execute_result"
    }
   ],
   "source": [
    "m.colour()"
   ]
  },
  {
   "cell_type": "code",
   "execution_count": null,
   "id": "ef9b7e19-e906-4970-8811-f02c57318852",
   "metadata": {},
   "outputs": [],
   "source": [
    "In this example, the implementation details of the colour() method are hidden from the user. The user only needs to know that the colour() method exists and that it returns the colour of the car. They do not need to know how the colour() method is implemented."
   ]
  },
  {
   "cell_type": "code",
   "execution_count": null,
   "id": "907ab439-8d62-40f2-8975-ae56321fdcbe",
   "metadata": {},
   "outputs": [],
   "source": []
  },
  {
   "cell_type": "code",
   "execution_count": null,
   "id": "a683a7e5-a547-469f-b907-e69f4ff3c6d1",
   "metadata": {},
   "outputs": [],
   "source": []
  },
  {
   "cell_type": "code",
   "execution_count": null,
   "id": "6942c234-7ecf-42ef-9b71-3e825eaff9b2",
   "metadata": {},
   "outputs": [],
   "source": []
  },
  {
   "cell_type": "code",
   "execution_count": null,
   "id": "aa477286-674b-4db7-bdb5-a2a7e301d257",
   "metadata": {},
   "outputs": [],
   "source": [
    "Q3. What is abc module in python? Why is it used?"
   ]
  },
  {
   "cell_type": "code",
   "execution_count": null,
   "id": "7293455b-0c50-4f15-950c-36ca3147b058",
   "metadata": {},
   "outputs": [],
   "source": [
    "                                        ANSWER-3"
   ]
  },
  {
   "cell_type": "code",
   "execution_count": null,
   "id": "c49a645f-b633-4f0a-a824-39a85c5660ef",
   "metadata": {},
   "outputs": [],
   "source": [
    "The abc module in Python provides the infrastructure for defining abstract base classes (ABCs).The abc module provides the ABC class and the abstractmethod decorator, which are used to define abstract base classes and abstract methods, respectively."
   ]
  },
  {
   "cell_type": "code",
   "execution_count": null,
   "id": "4f91fc29-8a48-4e51-9be2-a834900acc98",
   "metadata": {},
   "outputs": [],
   "source": [
    "An abstract base class is a class that cannot be instantiated directly but serves as a blueprint for its subclasses. It defines a common interface or contract that its subclasses are expected to adhere to. Abstract base classes are used to enforce a certain structure or behavior among a group of related classes."
   ]
  },
  {
   "cell_type": "code",
   "execution_count": null,
   "id": "27b808e1-4e99-4c5b-8644-2221a1ea2ab6",
   "metadata": {},
   "outputs": [],
   "source": []
  },
  {
   "cell_type": "code",
   "execution_count": null,
   "id": "2da53e9f-3ff9-437b-b314-71beb182010a",
   "metadata": {},
   "outputs": [],
   "source": []
  },
  {
   "cell_type": "code",
   "execution_count": null,
   "id": "c9e6bd80-998c-49c0-b553-ec23012bd804",
   "metadata": {},
   "outputs": [],
   "source": []
  },
  {
   "cell_type": "code",
   "execution_count": null,
   "id": "eaaeb7f2-12fd-4269-ae96-3b067e93d832",
   "metadata": {},
   "outputs": [],
   "source": [
    "Q4. How can we achieve data abstraction?"
   ]
  },
  {
   "cell_type": "code",
   "execution_count": null,
   "id": "b369bf37-1e0f-4eac-bfbd-2b95f4f52879",
   "metadata": {},
   "outputs": [],
   "source": [
    "                                            ANSWER-4"
   ]
  },
  {
   "cell_type": "code",
   "execution_count": null,
   "id": "53ffb35e-2a71-43a1-b5d3-5e53feb07eff",
   "metadata": {},
   "outputs": [],
   "source": [
    "Data abstraction is a technique that separates the interface from the implementation of a data type. This allows users of the data type to focus on its behavior, without having to worry about how it is implemented."
   ]
  },
  {
   "cell_type": "code",
   "execution_count": null,
   "id": "ef62fa58-432e-4367-a500-97986e74f95e",
   "metadata": {},
   "outputs": [],
   "source": [
    "1. Define the class that represent abstract entities."
   ]
  },
  {
   "cell_type": "code",
   "execution_count": null,
   "id": "5df47641-4d85-4e6e-8cde-e74d67d6f9ae",
   "metadata": {},
   "outputs": [],
   "source": [
    "2. Utilize access modifiers like public, private, and protected to control the visibility and accessibility of class members (attributes and methods)."
   ]
  },
  {
   "cell_type": "code",
   "execution_count": null,
   "id": "dccb9223-9193-4ac6-8a60-d2936e2548d7",
   "metadata": {},
   "outputs": [],
   "source": [
    "3. Provide meaningful and abstracted methods that operate on the internal data of the class."
   ]
  },
  {
   "cell_type": "code",
   "execution_count": null,
   "id": "e40204ce-4ea0-42cb-b408-e664a9becbd6",
   "metadata": {},
   "outputs": [],
   "source": [
    "4. Define interfaces that declare a set of methods without specifying their implementation."
   ]
  },
  {
   "cell_type": "code",
   "execution_count": null,
   "id": "1e4eee8f-97ac-487b-bbc1-a185e5451416",
   "metadata": {},
   "outputs": [],
   "source": []
  },
  {
   "cell_type": "code",
   "execution_count": null,
   "id": "92a90a53-5670-49f0-b686-794f828fe061",
   "metadata": {},
   "outputs": [],
   "source": []
  },
  {
   "cell_type": "code",
   "execution_count": null,
   "id": "f1034566-6c0b-4063-9959-a7a60cb1573b",
   "metadata": {},
   "outputs": [],
   "source": []
  },
  {
   "cell_type": "code",
   "execution_count": null,
   "id": "a532958a-cab3-477d-9fa5-d87115efec04",
   "metadata": {},
   "outputs": [],
   "source": [
    "Q5. Can we create an instance of an abstract class? Explain your answer."
   ]
  },
  {
   "cell_type": "code",
   "execution_count": null,
   "id": "7f7f6a93-0398-4c3f-937c-ff21acffd2d9",
   "metadata": {},
   "outputs": [],
   "source": [
    "                                        ANSWER-5"
   ]
  },
  {
   "cell_type": "code",
   "execution_count": null,
   "id": "3cc3a580-44e7-4db7-8f82-4852dd11e148",
   "metadata": {},
   "outputs": [],
   "source": [
    "No, you cannot create an instance of an abstract class. An abstract class is a class that is designed to serve as a blueprint or template for its subclasses. It contains one or more abstract methods, which are declared but do not have an implementation in the abstract class itself."
   ]
  }
 ],
 "metadata": {
  "kernelspec": {
   "display_name": "Python 3 (ipykernel)",
   "language": "python",
   "name": "python3"
  },
  "language_info": {
   "codemirror_mode": {
    "name": "ipython",
    "version": 3
   },
   "file_extension": ".py",
   "mimetype": "text/x-python",
   "name": "python",
   "nbconvert_exporter": "python",
   "pygments_lexer": "ipython3",
   "version": "3.10.8"
  }
 },
 "nbformat": 4,
 "nbformat_minor": 5
}
