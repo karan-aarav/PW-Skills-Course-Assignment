{
 "cells": [
  {
   "cell_type": "code",
   "execution_count": null,
   "id": "bc343095-33d5-4e5e-926a-4e47d84fbf0d",
   "metadata": {},
   "outputs": [],
   "source": [
    "Q1. Explain Class and Object with respect to Object-Oriented Programming. Give a suitable example."
   ]
  },
  {
   "cell_type": "code",
   "execution_count": null,
   "id": "1e4af2b5-3994-45ea-8b76-a10f2b3cf1f0",
   "metadata": {},
   "outputs": [],
   "source": [
    "                                                ANSER-1"
   ]
  },
  {
   "cell_type": "code",
   "execution_count": null,
   "id": "f9c16150-2c02-4503-8c25-d3ebcf9e2472",
   "metadata": {},
   "outputs": [],
   "source": [
    "A class is a blueprint for creating objects. It defines the objects properties and methods."
   ]
  },
  {
   "cell_type": "code",
   "execution_count": null,
   "id": "d171ed45-5bb6-451a-baec-4ebfbebb5dd3",
   "metadata": {},
   "outputs": [],
   "source": [
    "Whereas, object is instance of class. "
   ]
  },
  {
   "cell_type": "code",
   "execution_count": null,
   "id": "2ab1b91f-2d31-4686-8f21-e2230542a717",
   "metadata": {},
   "outputs": [],
   "source": [
    "For example, a car has a model, body colour, fuel type etc category can be considered as class and accelaration, brake and gear considered as function of car. whereas object can be manufacturer name such as toyota, maruti suzuki, hyundai etc. which define the specific brand car."
   ]
  },
  {
   "cell_type": "code",
   "execution_count": null,
   "id": "e9824ebe-e53e-4105-938d-b65e58fdfe52",
   "metadata": {},
   "outputs": [],
   "source": []
  },
  {
   "cell_type": "code",
   "execution_count": null,
   "id": "862fe22c-b373-4501-bfb7-e872a448dca3",
   "metadata": {},
   "outputs": [],
   "source": []
  },
  {
   "cell_type": "code",
   "execution_count": null,
   "id": "927f88e1-5808-4098-bf89-2e948a1f10a9",
   "metadata": {},
   "outputs": [],
   "source": []
  },
  {
   "cell_type": "code",
   "execution_count": null,
   "id": "c5b8e9ec-e702-44fc-a89b-4e47d936b43f",
   "metadata": {},
   "outputs": [],
   "source": [
    "Q2. Name the four pillars of OOPs."
   ]
  },
  {
   "cell_type": "code",
   "execution_count": null,
   "id": "4fa270ad-163c-4331-9d3b-139498dee2ce",
   "metadata": {},
   "outputs": [],
   "source": [
    "                                                ANSWER-2"
   ]
  },
  {
   "cell_type": "code",
   "execution_count": null,
   "id": "756667d2-e88e-4386-8489-876c6fe67d22",
   "metadata": {},
   "outputs": [],
   "source": [
    "The four pillar of OOPs are: Abstraction, Encapsulation, Inheritance and Polymorphism."
   ]
  },
  {
   "cell_type": "code",
   "execution_count": null,
   "id": "b36e0b66-311c-475f-8686-30688cf3a50e",
   "metadata": {},
   "outputs": [],
   "source": []
  },
  {
   "cell_type": "code",
   "execution_count": null,
   "id": "1bab571a-62a1-4dab-83e5-b2b13ea27611",
   "metadata": {},
   "outputs": [],
   "source": []
  },
  {
   "cell_type": "code",
   "execution_count": null,
   "id": "6cb5144c-69ad-4292-a974-e9d1160226ea",
   "metadata": {},
   "outputs": [],
   "source": []
  },
  {
   "cell_type": "code",
   "execution_count": null,
   "id": "1a5e8da5-e094-4acf-a739-7de242aa9bbb",
   "metadata": {},
   "outputs": [],
   "source": [
    "Q3. Explain why the __init__() function is used. Give a suitable example."
   ]
  },
  {
   "cell_type": "code",
   "execution_count": null,
   "id": "09abd046-6b87-44e6-a94e-e3c688317935",
   "metadata": {},
   "outputs": [],
   "source": [
    "                                                ANSWER-3"
   ]
  },
  {
   "cell_type": "code",
   "execution_count": null,
   "id": "4475f389-dcfd-46a8-bf85-a915b2fdee23",
   "metadata": {},
   "outputs": [],
   "source": [
    "The __init__() function is a special method in Python that is called when an object is created. It is used to initialize the objects attributes. It will take or pass  the variable data in the class"
   ]
  },
  {
   "cell_type": "code",
   "execution_count": 10,
   "id": "0de0f960-7205-4d94-8e90-be5a18a3930d",
   "metadata": {},
   "outputs": [],
   "source": [
    "class pwskills1:\n",
    "    \n",
    "    def __init__(self, phone, email_id, student_id):\n",
    "        self.phone = phone  \n",
    "        self.student_id = student_id"
   ]
  },
  {
   "cell_type": "code",
   "execution_count": 11,
   "id": "957bc33c-6594-4791-92cf-bde572992725",
   "metadata": {},
   "outputs": [],
   "source": [
    "rohan=pwskills1(9123435173, \"karanaarav16@gamil.com\", 18014) ## This will pass the value to the class with init"
   ]
  },
  {
   "cell_type": "code",
   "execution_count": 12,
   "id": "93611145-a2ef-4095-a451-2e9fa4fdfdcb",
   "metadata": {},
   "outputs": [
    {
     "data": {
      "text/plain": [
       "9123435173"
      ]
     },
     "execution_count": 12,
     "metadata": {},
     "output_type": "execute_result"
    }
   ],
   "source": [
    "rohan.phone"
   ]
  },
  {
   "cell_type": "code",
   "execution_count": null,
   "id": "bb5b99cd-c35e-417d-b0b2-9b4f698c005d",
   "metadata": {},
   "outputs": [],
   "source": []
  },
  {
   "cell_type": "code",
   "execution_count": null,
   "id": "08b8b1e7-29d1-45b3-912f-447d8e7603e2",
   "metadata": {},
   "outputs": [],
   "source": []
  },
  {
   "cell_type": "code",
   "execution_count": null,
   "id": "b291b31d-f163-4bea-86fc-7e204ffc6733",
   "metadata": {},
   "outputs": [],
   "source": []
  },
  {
   "cell_type": "code",
   "execution_count": null,
   "id": "3438128a-85b0-451f-96a9-a0217eed1297",
   "metadata": {},
   "outputs": [],
   "source": [
    "Q4. Why self is used in OOPs?"
   ]
  },
  {
   "cell_type": "code",
   "execution_count": null,
   "id": "8dca22f8-ebe8-4432-8cec-e69c6a13516b",
   "metadata": {},
   "outputs": [],
   "source": [
    "                                            ANSWER-4"
   ]
  },
  {
   "cell_type": "code",
   "execution_count": null,
   "id": "ca1f66b1-3d46-4738-9a43-325869405769",
   "metadata": {},
   "outputs": [],
   "source": [
    "self is used in OOPs to refer to the current instance of a class and allows us to access its attributes and methods within the class."
   ]
  },
  {
   "cell_type": "code",
   "execution_count": null,
   "id": "0127be17-add7-486d-a894-782aebaac99b",
   "metadata": {},
   "outputs": [],
   "source": []
  },
  {
   "cell_type": "code",
   "execution_count": null,
   "id": "bed08076-3324-429d-b84b-c6230d724a12",
   "metadata": {},
   "outputs": [],
   "source": []
  },
  {
   "cell_type": "code",
   "execution_count": null,
   "id": "1af5d200-2649-4fff-a550-e284ae424877",
   "metadata": {},
   "outputs": [],
   "source": []
  },
  {
   "cell_type": "code",
   "execution_count": null,
   "id": "1327b397-4db5-477a-a0b3-d2921ccdb9ec",
   "metadata": {},
   "outputs": [],
   "source": [
    "Q5. What is inheritance? Give an example for each type of inheritance."
   ]
  },
  {
   "cell_type": "code",
   "execution_count": null,
   "id": "ac6141b0-f493-48f5-a372-3f1873fc6948",
   "metadata": {},
   "outputs": [],
   "source": [
    "                                            ANSWER-5"
   ]
  },
  {
   "cell_type": "code",
   "execution_count": null,
   "id": "b8402dcf-edf5-444e-8125-841c7a4cbeca",
   "metadata": {},
   "outputs": [],
   "source": [
    "Inheritance is a mechanism in Object-Oriented Programming (OOP) that allows one class (the child class) to inherit properties (attributes and methods) from another class (the parent class)"
   ]
  },
  {
   "cell_type": "code",
   "execution_count": null,
   "id": "caa44b5d-cf44-4c97-825f-6233df98bafa",
   "metadata": {},
   "outputs": [],
   "source": [
    "1. Single Inheritence Example:\n",
    "\n",
    "class test:\n",
    "    \n",
    "    def test_meth(self):\n",
    "        return \"this is the first class\"\n",
    "\n",
    "class child_test(test):    ## child class which inherit test obj from test class\n",
    "    pass"
   ]
  },
  {
   "cell_type": "code",
   "execution_count": null,
   "id": "0635db95-377e-405c-94cd-64262893adb0",
   "metadata": {},
   "outputs": [],
   "source": [
    "2. Multi-Level Inheritence Example:\n",
    "    \n",
    "class class1:\n",
    "    \n",
    "    def test_class1(self):\n",
    "        return \"this is class 1\"\n",
    "\n",
    "class class2(class1):   ## Class 2 inherit Class 1\n",
    "    def test_class2(self):\n",
    "        return \"this is class 2\"\n",
    "\n",
    "class class3(class2):   ## Class 3 inherit Class 2\n",
    "    pass"
   ]
  },
  {
   "cell_type": "code",
   "execution_count": null,
   "id": "e8960b13-d096-4f48-a33f-95d9b455273c",
   "metadata": {},
   "outputs": [],
   "source": [
    "3. Multiple Inheritence Example:\n",
    "\n",
    "class class1:\n",
    "     \n",
    "        def test_class1(self):\n",
    "            return \"this is class 1\"\n",
    "\n",
    "class class2:\n",
    "    \n",
    "    def test_class2(self):\n",
    "        return \"this is class 2\"\n",
    "\n",
    "class class3(class1, class2): ## Both class is inheritence \n",
    "    pass"
   ]
  }
 ],
 "metadata": {
  "kernelspec": {
   "display_name": "Python 3 (ipykernel)",
   "language": "python",
   "name": "python3"
  },
  "language_info": {
   "codemirror_mode": {
    "name": "ipython",
    "version": 3
   },
   "file_extension": ".py",
   "mimetype": "text/x-python",
   "name": "python",
   "nbconvert_exporter": "python",
   "pygments_lexer": "ipython3",
   "version": "3.10.8"
  }
 },
 "nbformat": 4,
 "nbformat_minor": 5
}
