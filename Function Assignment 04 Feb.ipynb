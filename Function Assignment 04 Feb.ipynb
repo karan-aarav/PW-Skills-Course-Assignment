{
 "cells": [
  {
   "cell_type": "code",
   "execution_count": null,
   "id": "5dfd5438-1e1c-428f-a7e7-fcd7f80988c9",
   "metadata": {},
   "outputs": [],
   "source": [
    "Q1. Create a python program to sort the given list of tuples based on integer value using a\n",
    "lambda function.\n",
    "[('Sachin Tendulkar', 34357), ('Ricky Ponting', 27483), ('Jack Kallis', 25534), ('Virat Kohli', 24936)]"
   ]
  },
  {
   "cell_type": "code",
   "execution_count": null,
   "id": "c5ff2cb8-7bb8-4448-9be4-20532ca8f441",
   "metadata": {},
   "outputs": [],
   "source": [
    "                                            ANSWER-1"
   ]
  },
  {
   "cell_type": "code",
   "execution_count": 4,
   "id": "e0cd135a-fc8a-4077-bfae-b3d30d5e78eb",
   "metadata": {},
   "outputs": [
    {
     "name": "stdout",
     "output_type": "stream",
     "text": [
      "[('Virat Kohli', 24936), ('Jack Kallis', 25534), ('Ricky Ponting', 27483), ('Sachin Tendulkar', 34357)]\n"
     ]
    }
   ],
   "source": [
    "data = [('Sachin Tendulkar', 34357), ('Ricky Ponting', 27483), ('Jack Kallis', 25534), ('Virat Kohli', 24936)]\n",
    "\n",
    "## Sorting the list of tuples based on the second item (integer value) of each tuple\n",
    "sorted_data = sorted(data, key=lambda x: x[1])\n",
    "print(sorted_data)"
   ]
  },
  {
   "cell_type": "code",
   "execution_count": null,
   "id": "d97bd8a4-3cfc-4771-970a-cd584de2c22d",
   "metadata": {},
   "outputs": [],
   "source": []
  },
  {
   "cell_type": "code",
   "execution_count": null,
   "id": "4f9f1744-dd66-46de-9c68-92de8ecb1736",
   "metadata": {},
   "outputs": [],
   "source": []
  },
  {
   "cell_type": "code",
   "execution_count": null,
   "id": "dbdc0868-531c-48a9-9d26-5d19b14f11cf",
   "metadata": {},
   "outputs": [],
   "source": []
  },
  {
   "cell_type": "code",
   "execution_count": null,
   "id": "8b7b312a-0902-4896-8f06-322584093bee",
   "metadata": {},
   "outputs": [],
   "source": [
    "Q2. Write a Python Program to find the squares of all the numbers in the given list of integers using\n",
    "lambda and map functions.\n",
    "[1, 2, 3, 4, 5, 6, 7, 8, 9, 10]"
   ]
  },
  {
   "cell_type": "code",
   "execution_count": null,
   "id": "3c5489c9-19e0-46a3-ab06-b022c188f5dc",
   "metadata": {},
   "outputs": [],
   "source": [
    "                                        ANSWER-2"
   ]
  },
  {
   "cell_type": "code",
   "execution_count": 2,
   "id": "f794449c-327c-4f05-a2b7-bf4905a3bb83",
   "metadata": {},
   "outputs": [
    {
     "data": {
      "text/plain": [
       "[1, 4, 9, 16, 25, 36, 49, 64, 81, 100]"
      ]
     },
     "execution_count": 2,
     "metadata": {},
     "output_type": "execute_result"
    }
   ],
   "source": [
    "l=[1, 2, 3, 4, 5, 6, 7, 8, 9, 10]  ## Given list\n",
    "\n",
    "list(map(lambda x: x**2, l)) ## Using Lambda and map funciton to find square"
   ]
  },
  {
   "cell_type": "code",
   "execution_count": null,
   "id": "099f061c-41de-458c-aea1-38392ca0a679",
   "metadata": {},
   "outputs": [],
   "source": []
  },
  {
   "cell_type": "code",
   "execution_count": null,
   "id": "f71a0b94-848c-46bc-a766-ddc887593995",
   "metadata": {},
   "outputs": [],
   "source": []
  },
  {
   "cell_type": "code",
   "execution_count": null,
   "id": "cb205be0-3095-4484-b1a1-3bf99006e244",
   "metadata": {},
   "outputs": [],
   "source": []
  },
  {
   "cell_type": "code",
   "execution_count": null,
   "id": "748fe25c-8eac-4cde-b315-101c9b684f18",
   "metadata": {},
   "outputs": [],
   "source": [
    "Q3. Write a python program to convert the given list of integers into a tuple of strings. Use map and\n",
    "lambda functions\n",
    "Given String: [1, 2, 3, 4, 5, 6, 7, 8, 9, 10]\n",
    "Expected output: ('1', '2', '3', '4', '5', '6', '7', '8', '9', '10')"
   ]
  },
  {
   "cell_type": "code",
   "execution_count": null,
   "id": "013e9d7f-6295-4178-965d-6d7257c445f1",
   "metadata": {},
   "outputs": [],
   "source": [
    "                                            ANSWER-3"
   ]
  },
  {
   "cell_type": "code",
   "execution_count": 3,
   "id": "0b371f9e-138d-4367-9090-bcca9da938c4",
   "metadata": {},
   "outputs": [
    {
     "name": "stdout",
     "output_type": "stream",
     "text": [
      "('1', '2', '3', '4', '5', '6', '7', '8', '9', '10')\n"
     ]
    }
   ],
   "source": [
    "l= [1, 2, 3, 4, 5, 6, 7, 8, 9, 10] ## Given list\n",
    " ## map function and lambda function to convert into string and tuple type casting\n",
    "tup= tuple(map(lambda x: str(x), l))\n",
    "print(tup) ## Print value"
   ]
  },
  {
   "cell_type": "code",
   "execution_count": null,
   "id": "6bf47468-da7d-4ea6-9664-59d198ccd5dd",
   "metadata": {},
   "outputs": [],
   "source": []
  },
  {
   "cell_type": "code",
   "execution_count": null,
   "id": "76797bbe-efd4-4c3a-914f-c75bdc31f9c0",
   "metadata": {},
   "outputs": [],
   "source": []
  },
  {
   "cell_type": "code",
   "execution_count": null,
   "id": "cfcc03a8-af4c-4596-a244-58050fad4643",
   "metadata": {},
   "outputs": [],
   "source": []
  },
  {
   "cell_type": "code",
   "execution_count": null,
   "id": "8a83608c-518f-41c6-a6e4-b60b664f6acd",
   "metadata": {},
   "outputs": [],
   "source": [
    "Q4. Write a python program using reduce function to compute the product of a list containing numbers\n",
    "from 1 to 25."
   ]
  },
  {
   "cell_type": "code",
   "execution_count": null,
   "id": "d7b52401-eb75-4a59-9885-62513724c5d0",
   "metadata": {},
   "outputs": [],
   "source": [
    "                                            ANSWER-4"
   ]
  },
  {
   "cell_type": "code",
   "execution_count": 5,
   "id": "d4a1a29d-16ca-4ea4-a826-9b093647c50f",
   "metadata": {},
   "outputs": [
    {
     "name": "stdout",
     "output_type": "stream",
     "text": [
      "15511210043330985984000000\n"
     ]
    }
   ],
   "source": [
    "from functools import reduce   ## to use reduce function \n",
    "l= list(range(1,26)) ## list of number 1 to 25\n",
    "product= reduce(lambda x,y: x*y, l) ## to reduce the list my multiplying 1st and 2nd terms everytimes \n",
    "print(product)"
   ]
  },
  {
   "cell_type": "code",
   "execution_count": null,
   "id": "05ee3f0e-0114-4ff1-a7af-d89c76eab820",
   "metadata": {},
   "outputs": [],
   "source": []
  },
  {
   "cell_type": "code",
   "execution_count": null,
   "id": "3d51d0c0-3efc-44c2-bcb2-7de83c95ad6a",
   "metadata": {},
   "outputs": [],
   "source": []
  },
  {
   "cell_type": "code",
   "execution_count": null,
   "id": "6cac7f4c-f8d0-4fe5-a091-9fc9c32edbe2",
   "metadata": {},
   "outputs": [],
   "source": []
  },
  {
   "cell_type": "code",
   "execution_count": null,
   "id": "19132bc2-063f-4739-acaa-3c30bef27116",
   "metadata": {},
   "outputs": [],
   "source": [
    "Q5. Write a python program to filter the numbers in a given list that are divisible by 2 and 3 using the\n",
    "filter function.\n",
    "[2, 3, 6, 9, 27, 60, 90, 120, 55, 46]"
   ]
  },
  {
   "cell_type": "code",
   "execution_count": null,
   "id": "0948a296-6a33-42c8-8ffc-6aad21fa6c9b",
   "metadata": {},
   "outputs": [],
   "source": [
    "                                            ANSWER-5"
   ]
  },
  {
   "cell_type": "code",
   "execution_count": 6,
   "id": "280ff6d8-284e-4612-9ce4-9b42bcbb7fe4",
   "metadata": {},
   "outputs": [
    {
     "name": "stdout",
     "output_type": "stream",
     "text": [
      "[6, 60, 90, 120]\n"
     ]
    }
   ],
   "source": [
    "l=[2, 3, 6, 9, 27, 60, 90, 120, 55, 46] ## Given List\n",
    "## filter function to filter the list that is divisible by 2 and 3\n",
    "num= list(filter(lambda x: x%2==0 and x%3==0, l))\n",
    "print(num)"
   ]
  },
  {
   "cell_type": "code",
   "execution_count": null,
   "id": "94c9f8d4-3919-4513-9d65-4c512d00fc48",
   "metadata": {},
   "outputs": [],
   "source": []
  },
  {
   "cell_type": "code",
   "execution_count": null,
   "id": "b8907837-f978-4c9a-ae59-090ac9442c9c",
   "metadata": {},
   "outputs": [],
   "source": []
  },
  {
   "cell_type": "code",
   "execution_count": null,
   "id": "f53cf14c-e8c2-41f6-9ffd-b00e952ba9fa",
   "metadata": {},
   "outputs": [],
   "source": []
  },
  {
   "cell_type": "code",
   "execution_count": null,
   "id": "f2876c71-9a48-4f5d-a0e9-3bcf0ef77e08",
   "metadata": {},
   "outputs": [],
   "source": [
    "Q6. Write a python program to find palindromes in the given list of strings using lambda and filter\n",
    "function.\n",
    "['python', 'php', 'aba', 'radar', 'level']"
   ]
  },
  {
   "cell_type": "code",
   "execution_count": null,
   "id": "d15c1f31-e8d8-401c-8fa1-159aae590549",
   "metadata": {},
   "outputs": [],
   "source": [
    "                                            ANSWER-6"
   ]
  },
  {
   "cell_type": "code",
   "execution_count": 8,
   "id": "6942d555-6a14-46f5-ba19-9b7e1cd4fc97",
   "metadata": {},
   "outputs": [
    {
     "name": "stdout",
     "output_type": "stream",
     "text": [
      "['php', 'aba', 'radar', 'level']\n"
     ]
    }
   ],
   "source": [
    "l=['python', 'php', 'aba', 'radar', 'level'] ## Given List\n",
    "## using filter and lambda function to filter the pallidrone string\n",
    "pallidrone= list(filter(lambda x: x== x[::-1] , l))\n",
    "print(pallidrone)"
   ]
  }
 ],
 "metadata": {
  "kernelspec": {
   "display_name": "Python 3 (ipykernel)",
   "language": "python",
   "name": "python3"
  },
  "language_info": {
   "codemirror_mode": {
    "name": "ipython",
    "version": 3
   },
   "file_extension": ".py",
   "mimetype": "text/x-python",
   "name": "python",
   "nbconvert_exporter": "python",
   "pygments_lexer": "ipython3",
   "version": "3.10.8"
  }
 },
 "nbformat": 4,
 "nbformat_minor": 5
}
