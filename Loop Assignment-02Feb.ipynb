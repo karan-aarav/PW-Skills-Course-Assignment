{
 "cells": [
  {
   "cell_type": "code",
   "execution_count": null,
   "id": "47dffd32-2205-47ad-b2c9-3480845bfcce",
   "metadata": {},
   "outputs": [],
   "source": [
    "                                             ANSWER 1"
   ]
  },
  {
   "cell_type": "code",
   "execution_count": null,
   "id": "851e99ec-ed95-47c8-abea-6185ca482ffc",
   "metadata": {},
   "outputs": [],
   "source": [
    "For Loop"
   ]
  },
  {
   "cell_type": "code",
   "execution_count": 1,
   "id": "c843ad6b-b830-44d8-ac18-ecfb67624167",
   "metadata": {},
   "outputs": [
    {
     "name": "stdout",
     "output_type": "stream",
     "text": [
      "2\n",
      "3\n",
      "4\n"
     ]
    }
   ],
   "source": [
    "l=[1,2,3]\n",
    "for i in l:\n",
    "    print (i+1)"
   ]
  },
  {
   "cell_type": "code",
   "execution_count": null,
   "id": "af320b6b-7f26-484c-8e42-f5afd4d39602",
   "metadata": {},
   "outputs": [],
   "source": [
    "For Loop is Used when you want to perform the certain operation on each value in sequence order. In he above examples, you want to add 1 in each value in sequence order."
   ]
  },
  {
   "cell_type": "code",
   "execution_count": null,
   "id": "65bf90c3-08eb-4f3e-a259-4ff828d58a17",
   "metadata": {},
   "outputs": [],
   "source": [
    "While loop"
   ]
  },
  {
   "cell_type": "code",
   "execution_count": 2,
   "id": "54755981-df15-4322-a994-b089a98abadd",
   "metadata": {},
   "outputs": [
    {
     "name": "stdout",
     "output_type": "stream",
     "text": [
      "1\n",
      "2\n",
      "3\n",
      "4\n"
     ]
    }
   ],
   "source": [
    "count=1\n",
    "while count<5:\n",
    "    print(count)\n",
    "    count+=1"
   ]
  },
  {
   "cell_type": "code",
   "execution_count": null,
   "id": "424579fd-bdc5-45f5-97db-7f6a0473a837",
   "metadata": {},
   "outputs": [],
   "source": [
    "While loop is used when you want to perform certain task until the condition Met. In this example, it will repeat to print the number start with number 1 and after iteration till the conditon met i.e 5   "
   ]
  },
  {
   "cell_type": "code",
   "execution_count": null,
   "id": "496c3c31-4197-4f4b-9c0e-a656f1b5d00d",
   "metadata": {},
   "outputs": [],
   "source": []
  },
  {
   "cell_type": "code",
   "execution_count": null,
   "id": "3643ee40-4894-427d-88ae-19a638592f95",
   "metadata": {},
   "outputs": [],
   "source": []
  },
  {
   "cell_type": "code",
   "execution_count": null,
   "id": "4e4a7817-15cf-40a3-ae1d-3ce898d12e2e",
   "metadata": {},
   "outputs": [],
   "source": [
    "                                                ANSWER 2"
   ]
  },
  {
   "cell_type": "code",
   "execution_count": null,
   "id": "b61a4c34-0358-4c56-9922-662646752e39",
   "metadata": {},
   "outputs": [],
   "source": [
    "By For loop"
   ]
  },
  {
   "cell_type": "code",
   "execution_count": 1,
   "id": "439b721b-fbe3-48dc-a20a-83b6fb16b479",
   "metadata": {},
   "outputs": [
    {
     "name": "stdout",
     "output_type": "stream",
     "text": [
      "Sum of Number:  55\n",
      "Prdouct of 10 natural Number:  3628800\n"
     ]
    }
   ],
   "source": [
    "sum_count=0\n",
    "product_count=1\n",
    "## For counting the sum of 10 natural number\n",
    "for i in range(1,11):\n",
    "        sum_count=i+sum_count\n",
    "print(\"Sum of Number: \", sum_count)\n",
    "\n",
    "## For counting the product of 10 natural number\n",
    "for j in range(1,11):\n",
    "    product_count=j*product_count\n",
    "print(\"Prdouct of 10 natural Number: \", product_count)\n"
   ]
  },
  {
   "cell_type": "code",
   "execution_count": null,
   "id": "04e0ca3c-b3b2-419e-a117-668ed627be22",
   "metadata": {},
   "outputs": [],
   "source": [
    "By While loop "
   ]
  },
  {
   "cell_type": "code",
   "execution_count": 6,
   "id": "dcb06b1f-245e-4938-b37f-bbf1345b4c02",
   "metadata": {},
   "outputs": [
    {
     "name": "stdout",
     "output_type": "stream",
     "text": [
      "Sum of Number  55\n"
     ]
    }
   ],
   "source": [
    "## sum of first 10 natural number with while loop\n",
    "sum_count=0\n",
    "num=1\n",
    "while num<=10:\n",
    "    sum_count=sum_count+num\n",
    "    num=num+1\n",
    "print(\"Sum of Number \", sum_count)"
   ]
  },
  {
   "cell_type": "code",
   "execution_count": 7,
   "id": "1a7c71f1-db1f-4397-b3cb-0eaf9427abc3",
   "metadata": {},
   "outputs": [
    {
     "name": "stdout",
     "output_type": "stream",
     "text": [
      "Product of Number  3628800\n"
     ]
    }
   ],
   "source": [
    "## Product of first 10 natural number\n",
    "product_count=1\n",
    "num=1\n",
    "while num<=10:\n",
    "    product_count*=num\n",
    "    num=num+1\n",
    "print(\"Product of Number \", product_count)"
   ]
  },
  {
   "cell_type": "code",
   "execution_count": null,
   "id": "58066527-6518-4cda-89ce-922c7bfe5221",
   "metadata": {},
   "outputs": [],
   "source": []
  },
  {
   "cell_type": "code",
   "execution_count": null,
   "id": "a5801289-0ae5-4c38-9717-0d141757f53d",
   "metadata": {},
   "outputs": [],
   "source": []
  },
  {
   "cell_type": "code",
   "execution_count": null,
   "id": "b44f50f4-234d-4f74-96bc-a4e6da161f79",
   "metadata": {},
   "outputs": [],
   "source": [
    "                                              ANSWER 3"
   ]
  },
  {
   "cell_type": "code",
   "execution_count": 10,
   "id": "1575b41a-8d23-4d42-80d3-d0c33ee3ee24",
   "metadata": {},
   "outputs": [
    {
     "name": "stdin",
     "output_type": "stream",
     "text": [
      "Enter the number of units consumed:  310\n"
     ]
    },
    {
     "name": "stdout",
     "output_type": "stream",
     "text": [
      "Your electricity bill for this month is: Rs. 2250.0\n"
     ]
    }
   ],
   "source": [
    "# Take input from user\n",
    "units = int(input(\"Enter the number of units consumed: \"))\n",
    "\n",
    "# Calculate bill amount\n",
    "if units <= 100:\n",
    "    bill = units * 4.5\n",
    "elif units <= 200:\n",
    "    bill = 100 * 4.5 + (units - 100) * 6\n",
    "elif units <= 300:\n",
    "    bill = 100 * 4.5 + 100 * 6 + (units - 200) * 10\n",
    "else:\n",
    "    bill = 100 * 4.5 + 100 * 6 + 100 * 10 + (units - 300) * 20\n",
    "\n",
    "print(\"Your electricity bill for this month is: Rs.\", bill)\n"
   ]
  },
  {
   "cell_type": "code",
   "execution_count": null,
   "id": "d7c49426-cf81-4719-90d1-5ac054161b5d",
   "metadata": {},
   "outputs": [],
   "source": []
  },
  {
   "cell_type": "code",
   "execution_count": null,
   "id": "e53cb3e2-5af5-4cee-bc29-f8a9e2edfc35",
   "metadata": {},
   "outputs": [],
   "source": []
  },
  {
   "cell_type": "code",
   "execution_count": null,
   "id": "4f9340a5-7bec-4cd3-9674-1ed36d0c1748",
   "metadata": {},
   "outputs": [],
   "source": [
    "                                            ANSWER 4"
   ]
  },
  {
   "cell_type": "code",
   "execution_count": null,
   "id": "4cb70ea8-5a1a-4124-a22b-9a54fcb857a1",
   "metadata": {},
   "outputs": [],
   "source": [
    "By Using For Loop"
   ]
  },
  {
   "cell_type": "code",
   "execution_count": 13,
   "id": "47d182b1-a35e-477f-b86e-7f7004c31815",
   "metadata": {},
   "outputs": [
    {
     "name": "stdout",
     "output_type": "stream",
     "text": [
      "The list of number whose Cube is divisible by 4 or 5:  [2, 4, 5, 6, 8, 10, 12, 14, 15, 16, 18, 20, 22, 24, 25, 26, 28, 30, 32, 34, 35, 36, 38, 40, 42, 44, 45, 46, 48, 50, 52, 54, 55, 56, 58, 60, 62, 64, 65, 66, 68, 70, 72, 74, 75, 76, 78, 80, 82, 84, 85, 86, 88, 90, 92, 94, 95, 96, 98, 100]\n"
     ]
    }
   ],
   "source": [
    "num= list(range(1,101))\n",
    "l=[]\n",
    "## For loop for finding the cube of number in the list\n",
    "for i in num:\n",
    "    cube=i**3\n",
    "    if cube %4 ==0 or cube % 5==0:\n",
    "        l.append(i)\n",
    "print(\"The list of number whose Cube is divisible by 4 or 5: \", l)"
   ]
  },
  {
   "cell_type": "code",
   "execution_count": null,
   "id": "ba32dfac-9c7b-4abb-9219-9582e998534c",
   "metadata": {},
   "outputs": [],
   "source": [
    "By Using While loop"
   ]
  },
  {
   "cell_type": "code",
   "execution_count": 15,
   "id": "95c1f61a-10c2-490e-aa5e-d62da1974431",
   "metadata": {},
   "outputs": [
    {
     "name": "stdout",
     "output_type": "stream",
     "text": [
      "The list of number whose Cube is divisible by 4 or 5:  [2, 4, 5, 6, 8, 10, 12, 14, 15, 16, 18, 20, 22, 24, 25, 26, 28, 30, 32, 34, 35, 36, 38, 40, 42, 44, 45, 46, 48, 50, 52, 54, 55, 56, 58, 60, 62, 64, 65, 66, 68, 70, 72, 74, 75, 76, 78, 80, 82, 84, 85, 86, 88, 90, 92, 94, 95, 96, 98, 100]\n"
     ]
    }
   ],
   "source": [
    "num= list(range(1,101))\n",
    "l=[]\n",
    "\n",
    "i=0  ## for index \n",
    "while i<len(num):\n",
    "    cube=num[i]**3\n",
    "    if cube %4 ==0 or cube % 5==0:\n",
    "        l.append(num[i])\n",
    "    i=i+1\n",
    "print(\"The list of number whose Cube is divisible by 4 or 5: \", l)"
   ]
  },
  {
   "cell_type": "code",
   "execution_count": null,
   "id": "9f19c621-75d8-488c-9910-1ce05bb0eff8",
   "metadata": {},
   "outputs": [],
   "source": []
  },
  {
   "cell_type": "code",
   "execution_count": null,
   "id": "3a21e3b8-841a-493d-9c3e-37aa362513b8",
   "metadata": {},
   "outputs": [],
   "source": []
  },
  {
   "cell_type": "code",
   "execution_count": null,
   "id": "6cbbcf3c-d3c4-4fc8-b778-e9280ea5eba6",
   "metadata": {},
   "outputs": [],
   "source": [
    "                                                    ANSWER 5"
   ]
  },
  {
   "cell_type": "code",
   "execution_count": 17,
   "id": "3795faab-99b6-4d97-b977-659d4193a819",
   "metadata": {},
   "outputs": [
    {
     "name": "stdin",
     "output_type": "stream",
     "text": [
      "Enter the String:  I want to become a data scientist\n"
     ]
    },
    {
     "name": "stdout",
     "output_type": "stream",
     "text": [
      "The total number of vowels is:  12\n"
     ]
    }
   ],
   "source": [
    "string=input(\"Enter the String: \")\n",
    "vowels=\"aeiouAEIOU\"\n",
    "count=0\n",
    "for i in string:\n",
    "    for j in vowels:\n",
    "        if i==j:\n",
    "            count+=1\n",
    "print(\"The total number of vowels is: \",count)"
   ]
  },
  {
   "cell_type": "code",
   "execution_count": null,
   "id": "33cd63ed-5993-40ef-9054-32ed760be56e",
   "metadata": {},
   "outputs": [],
   "source": []
  }
 ],
 "metadata": {
  "kernelspec": {
   "display_name": "Python 3 (ipykernel)",
   "language": "python",
   "name": "python3"
  },
  "language_info": {
   "codemirror_mode": {
    "name": "ipython",
    "version": 3
   },
   "file_extension": ".py",
   "mimetype": "text/x-python",
   "name": "python",
   "nbconvert_exporter": "python",
   "pygments_lexer": "ipython3",
   "version": "3.10.8"
  }
 },
 "nbformat": 4,
 "nbformat_minor": 5
}
