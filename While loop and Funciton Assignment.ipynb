{
 "cells": [
  {
   "cell_type": "code",
   "execution_count": null,
   "id": "edef1cde-458f-480d-96d7-40a221c453e0",
   "metadata": {},
   "outputs": [],
   "source": [
    "Q1. Which keyword is used to create a function? Create a function to return a list of odd numbers in the\n",
    "range of 1 to 25."
   ]
  },
  {
   "cell_type": "code",
   "execution_count": null,
   "id": "2de47686-2c82-4978-bd6e-90af486c8acc",
   "metadata": {},
   "outputs": [],
   "source": [
    "                                            ANSWER-1"
   ]
  },
  {
   "cell_type": "code",
   "execution_count": null,
   "id": "06b400d9-9fa2-4de9-9336-248cc060f2fd",
   "metadata": {},
   "outputs": [],
   "source": [
    "def is the keyword used to create a function. The syntax of the function is\n",
    "\n",
    "def function_name():"
   ]
  },
  {
   "cell_type": "code",
   "execution_count": null,
   "id": "3b40f44d-1c97-42bf-998d-da8c587f8c00",
   "metadata": {},
   "outputs": [],
   "source": [
    "Function to return a list of odd number in the range of 1 to 25:"
   ]
  },
  {
   "cell_type": "code",
   "execution_count": 2,
   "id": "9d88b656-ceb0-4aa7-ab30-5f4769c2964d",
   "metadata": {},
   "outputs": [],
   "source": [
    "def odd_number():\n",
    "    num=[] ## blank list to store the odd number in the list\n",
    "    for i in range(1,26):\n",
    "        if i%2==1:        ## Check for odd number and append in the blank list\n",
    "            num.append(i)\n",
    "    return num"
   ]
  },
  {
   "cell_type": "code",
   "execution_count": 3,
   "id": "9937a837-976a-4f5e-ae2f-5f84f323f797",
   "metadata": {},
   "outputs": [
    {
     "data": {
      "text/plain": [
       "[1, 3, 5, 7, 9, 11, 13, 15, 17, 19, 21, 23, 25]"
      ]
     },
     "execution_count": 3,
     "metadata": {},
     "output_type": "execute_result"
    }
   ],
   "source": [
    "odd_number()"
   ]
  },
  {
   "cell_type": "code",
   "execution_count": null,
   "id": "bdd3a63f-eb23-4472-bddd-88c21c5bedaf",
   "metadata": {},
   "outputs": [],
   "source": []
  },
  {
   "cell_type": "code",
   "execution_count": null,
   "id": "fbabfbe4-bbac-4021-8174-2f9c7161dcf1",
   "metadata": {},
   "outputs": [],
   "source": []
  },
  {
   "cell_type": "code",
   "execution_count": null,
   "id": "528bff5b-de59-451c-bedd-65a530e2d0b9",
   "metadata": {},
   "outputs": [],
   "source": []
  },
  {
   "cell_type": "code",
   "execution_count": null,
   "id": "218d6d60-e2e1-4b38-b0a4-7fd79c1f182d",
   "metadata": {},
   "outputs": [],
   "source": [
    "Q2. Why *args and **kwargs is used in some functions? Create a function each for *args and **kwargs\n",
    "to demonstrate their use."
   ]
  },
  {
   "cell_type": "code",
   "execution_count": null,
   "id": "b9334356-bb70-4d70-83fc-759fdb5e404e",
   "metadata": {},
   "outputs": [],
   "source": [
    "                                            ANSWER-2"
   ]
  },
  {
   "cell_type": "code",
   "execution_count": null,
   "id": "7d81ef26-cc1e-41ff-80e7-adde8a257acb",
   "metadata": {},
   "outputs": [],
   "source": [
    "*args and **kwargs are the syntax used to store infinite number of values which is unknown before hands."
   ]
  },
  {
   "cell_type": "code",
   "execution_count": null,
   "id": "9830df57-80de-4b22-87c9-95c0e64b4e6c",
   "metadata": {},
   "outputs": [],
   "source": []
  },
  {
   "cell_type": "code",
   "execution_count": null,
   "id": "4dea202e-ceec-4cdd-96f1-0f5c6ba04365",
   "metadata": {},
   "outputs": [],
   "source": [
    "*args passes variable number of non-keyworded arguments and on which operation of the tuple can be performed."
   ]
  },
  {
   "cell_type": "code",
   "execution_count": 1,
   "id": "7a408697-23bd-43fa-a989-6e8513f77263",
   "metadata": {},
   "outputs": [],
   "source": [
    "def my_sum(*args):  ## Syntax for *args \n",
    "    result = 0\n",
    "    for arg in args:\n",
    "        result += arg\n",
    "    return result"
   ]
  },
  {
   "cell_type": "code",
   "execution_count": 2,
   "id": "d3e5272f-d974-439d-b2ea-bee87d5b4773",
   "metadata": {},
   "outputs": [
    {
     "data": {
      "text/plain": [
       "75"
      ]
     },
     "execution_count": 2,
     "metadata": {},
     "output_type": "execute_result"
    }
   ],
   "source": [
    "my_sum(3,4,5,56,7) "
   ]
  },
  {
   "cell_type": "code",
   "execution_count": 3,
   "id": "ad9d98c9-e214-4e2d-a9c7-386d08fa2064",
   "metadata": {},
   "outputs": [
    {
     "data": {
      "text/plain": [
       "6"
      ]
     },
     "execution_count": 3,
     "metadata": {},
     "output_type": "execute_result"
    }
   ],
   "source": [
    "my_sum(1,2,3)"
   ]
  },
  {
   "cell_type": "code",
   "execution_count": null,
   "id": "e9080be1-a03c-41b4-afb5-389cf0522d46",
   "metadata": {},
   "outputs": [],
   "source": [
    "In the above example you can pass infinite no. of argument. which is unknown before hand and it is store in tuples."
   ]
  },
  {
   "cell_type": "code",
   "execution_count": null,
   "id": "9724a65f-86b2-4d11-8f6d-2bd3da77c0de",
   "metadata": {},
   "outputs": [],
   "source": []
  },
  {
   "cell_type": "code",
   "execution_count": null,
   "id": "ddfcd745-53b2-442b-bd3c-f25475984510",
   "metadata": {},
   "outputs": [],
   "source": [
    "**kwargs passes variable number of keyword arguments dictionary to function on which operation of a dictionary can be performed."
   ]
  },
  {
   "cell_type": "code",
   "execution_count": 4,
   "id": "61981b1b-e7d9-42dc-9aef-c48b561a0f95",
   "metadata": {},
   "outputs": [],
   "source": [
    "def print_values(**kwargs):\n",
    "    for key, value in kwargs.items():\n",
    "        print(key, \":\", value)"
   ]
  },
  {
   "cell_type": "code",
   "execution_count": 5,
   "id": "3a028e50-1885-46f2-8b4f-6566975a3e12",
   "metadata": {},
   "outputs": [
    {
     "name": "stdout",
     "output_type": "stream",
     "text": [
      "name : Alice\n",
      "age : 25\n",
      "city : New York\n"
     ]
    }
   ],
   "source": [
    "print_values(name=\"Alice\", age=25, city=\"New York\")"
   ]
  },
  {
   "cell_type": "code",
   "execution_count": 6,
   "id": "293754c3-32de-4cac-b174-1ba95a325546",
   "metadata": {},
   "outputs": [
    {
     "name": "stdout",
     "output_type": "stream",
     "text": [
      "name : Karan\n",
      "age : 22\n",
      "city : Silvassa\n",
      "qualification : Mechanical\n"
     ]
    }
   ],
   "source": [
    "print_values(name=\"Karan\", age=22, city=\"Silvassa\", qualification=\"Mechanical\")"
   ]
  },
  {
   "cell_type": "code",
   "execution_count": null,
   "id": "1940fac8-40f1-4ac3-abb2-62051c717f24",
   "metadata": {},
   "outputs": [],
   "source": [
    "In tha above examples, you can pass infinite no. of argument in terms of key and value pairs."
   ]
  },
  {
   "cell_type": "code",
   "execution_count": null,
   "id": "5f1a5986-7301-432c-86e5-a77acd35fa4b",
   "metadata": {},
   "outputs": [],
   "source": []
  },
  {
   "cell_type": "code",
   "execution_count": null,
   "id": "361dd609-2762-494d-b38b-5b1c66505111",
   "metadata": {},
   "outputs": [],
   "source": []
  },
  {
   "cell_type": "code",
   "execution_count": null,
   "id": "55d16b79-20e8-46d4-b65e-205005dbf233",
   "metadata": {},
   "outputs": [],
   "source": []
  },
  {
   "cell_type": "code",
   "execution_count": null,
   "id": "de3a9e70-403c-41e1-a318-f59713088226",
   "metadata": {},
   "outputs": [],
   "source": [
    "Q3. What is an iterator in python? Name the method used to initialise the iterator object and the method\n",
    "used for iteration. Use these methods to print the first five elements of the given list [2, 4, 6, 8, 10, 12, 14,\n",
    "16, 18, 20]."
   ]
  },
  {
   "cell_type": "code",
   "execution_count": null,
   "id": "5db405e3-024a-4471-aebf-7b6ce7f3ebe0",
   "metadata": {},
   "outputs": [],
   "source": [
    "                                            ANSWER-3"
   ]
  },
  {
   "cell_type": "code",
   "execution_count": null,
   "id": "005f5048-a05f-4d77-9bcd-2244ec0241f4",
   "metadata": {},
   "outputs": [],
   "source": [
    "An iterator in Python is an object that is used to iterate over iterable objects like lists, tuples, dicts, and sets."
   ]
  },
  {
   "cell_type": "code",
   "execution_count": null,
   "id": "2b479eb0-4575-4ca3-9348-c01299f86768",
   "metadata": {},
   "outputs": [],
   "source": [
    "The Python iterators object is initialized using the iter() method. The __iter__() method is used to initialize an iterator object and returns the iterator object itself"
   ]
  },
  {
   "cell_type": "code",
   "execution_count": null,
   "id": "ce482719-364a-48c0-a7bf-7df57d1d099b",
   "metadata": {},
   "outputs": [],
   "source": [
    "It uses the next() method for iteration. The __next__() method is used to iterate over the elements of an iterable and returns the next element of the iterable."
   ]
  },
  {
   "cell_type": "code",
   "execution_count": 7,
   "id": "d9b57738-d2d0-42e9-a219-5f13ff0b3a68",
   "metadata": {},
   "outputs": [
    {
     "name": "stdout",
     "output_type": "stream",
     "text": [
      "2\n",
      "4\n",
      "6\n",
      "8\n",
      "10\n"
     ]
    }
   ],
   "source": [
    "my_list = [2, 4, 6, 8, 10, 12, 14, 16, 18, 20]\n",
    "\n",
    "# initialize the iterator object\n",
    "my_iter = iter(my_list)\n",
    "\n",
    "# iterate over the first five elements using the next() method\n",
    "for i in range(5):\n",
    "    print(next(my_iter))"
   ]
  },
  {
   "cell_type": "code",
   "execution_count": null,
   "id": "b7f5c395-d14c-46f7-8c06-dda35e03829d",
   "metadata": {},
   "outputs": [],
   "source": []
  },
  {
   "cell_type": "code",
   "execution_count": null,
   "id": "e7ba019c-30bb-4af9-be09-e0290989c51c",
   "metadata": {},
   "outputs": [],
   "source": []
  },
  {
   "cell_type": "code",
   "execution_count": null,
   "id": "81b535fc-e761-48ae-beb5-ede3fc655f1e",
   "metadata": {},
   "outputs": [],
   "source": []
  },
  {
   "cell_type": "code",
   "execution_count": null,
   "id": "16065c08-0018-499a-a02c-28900f048132",
   "metadata": {},
   "outputs": [],
   "source": [
    "Q4. What is a generator function in python? Why yield keyword is used? Give an example of a generator function."
   ]
  },
  {
   "cell_type": "code",
   "execution_count": null,
   "id": "db0b528f-f0e4-4ed4-9f41-078a8f32f4bd",
   "metadata": {},
   "outputs": [],
   "source": [
    "                                                ANSWER 4"
   ]
  },
  {
   "cell_type": "code",
   "execution_count": null,
   "id": "151fd33b-660b-49ca-ad6b-7f93ee0915a1",
   "metadata": {},
   "outputs": [],
   "source": [
    "a generator function is a type of function in Python that allows you to generate a sequence of values without having to store all the values in memory at once. This is useful when you need to generate a large sequence of values because you can generate each value one at a time as it is needed, instead of generating the entire sequence all at once. this will save memory."
   ]
  },
  {
   "cell_type": "code",
   "execution_count": null,
   "id": "38374cbc-dbb6-4a9f-a586-95becd268fa1",
   "metadata": {},
   "outputs": [],
   "source": [
    "A generator function uses the yield keyword to return a value one at a time. yield is used in case of generator function instead of return function in the standard function."
   ]
  },
  {
   "cell_type": "code",
   "execution_count": 4,
   "id": "0d66ca7d-94c0-40df-a3fe-0350516f43bf",
   "metadata": {},
   "outputs": [],
   "source": [
    "def even_numbers(n):  \n",
    "    for i in range(n):\n",
    "        if i % 2 == 0:\n",
    "            yield i  ## Yield is excecuted that means it is generator function"
   ]
  },
  {
   "cell_type": "code",
   "execution_count": 6,
   "id": "3188ab86-22c6-4d16-995c-771cbab06fd9",
   "metadata": {},
   "outputs": [
    {
     "name": "stdout",
     "output_type": "stream",
     "text": [
      "0\n",
      "2\n",
      "4\n",
      "6\n",
      "8\n"
     ]
    }
   ],
   "source": [
    "for num in even_numbers(10):  ##  for loop is used to iterated the number which is generated using generator function\n",
    "    print(num)"
   ]
  },
  {
   "cell_type": "code",
   "execution_count": null,
   "id": "08dad453-92d3-40e2-b9a0-aa97ab04800a",
   "metadata": {},
   "outputs": [],
   "source": []
  },
  {
   "cell_type": "code",
   "execution_count": null,
   "id": "117aa546-1143-411e-b17a-47bf02b987c6",
   "metadata": {},
   "outputs": [],
   "source": []
  },
  {
   "cell_type": "code",
   "execution_count": null,
   "id": "735bc839-3491-4ea3-ac26-6c0dee993803",
   "metadata": {},
   "outputs": [],
   "source": []
  },
  {
   "cell_type": "code",
   "execution_count": null,
   "id": "aabd4eee-8739-4cf5-87a5-c449192fea17",
   "metadata": {},
   "outputs": [],
   "source": [
    "Q5. Create a generator function for prime numbers less than 1000. Use the next() method to print the\n",
    "first 20 prime numbers."
   ]
  },
  {
   "cell_type": "code",
   "execution_count": null,
   "id": "7d36a685-bf78-4605-9b3f-a9c47946a8ab",
   "metadata": {},
   "outputs": [],
   "source": [
    "                                                ANSWER-5"
   ]
  },
  {
   "cell_type": "code",
   "execution_count": 7,
   "id": "c5f20c78-6ae9-419f-b3ce-b8a4647196d1",
   "metadata": {},
   "outputs": [],
   "source": [
    "def primes():\n",
    "    num = 2\n",
    "    while num < 1000:\n",
    "        for i in range(2, num): \n",
    "            if num % i == 0: ## If it satisfy the num is not prime. hence, loop is break\n",
    "                break   \n",
    "        else:\n",
    "            yield num \n",
    "        num += 1"
   ]
  },
  {
   "cell_type": "code",
   "execution_count": 8,
   "id": "f6fbcdfb-fdb3-4ce3-b284-a9681028ae6b",
   "metadata": {},
   "outputs": [
    {
     "name": "stdout",
     "output_type": "stream",
     "text": [
      "2\n",
      "3\n",
      "5\n",
      "7\n",
      "11\n",
      "13\n",
      "17\n",
      "19\n",
      "23\n",
      "29\n",
      "31\n",
      "37\n",
      "41\n",
      "43\n",
      "47\n",
      "53\n",
      "59\n",
      "61\n",
      "67\n",
      "71\n"
     ]
    }
   ],
   "source": [
    "prime_generator = primes() ## to pass the generated variable for using next method\n",
    "for i in range(20):\n",
    "    print(next(prime_generator)) ## next method is used to iterated the number"
   ]
  },
  {
   "cell_type": "code",
   "execution_count": null,
   "id": "6544a85d-3c8a-4211-b220-de1384129123",
   "metadata": {},
   "outputs": [],
   "source": []
  },
  {
   "cell_type": "code",
   "execution_count": null,
   "id": "0af1f156-07eb-4f6c-afde-5bf71d802ea6",
   "metadata": {},
   "outputs": [],
   "source": []
  },
  {
   "cell_type": "code",
   "execution_count": null,
   "id": "381de1df-34c1-4a35-b90e-8b5d0c48658f",
   "metadata": {},
   "outputs": [],
   "source": []
  },
  {
   "cell_type": "code",
   "execution_count": null,
   "id": "cbeae1aa-58c4-43bc-8761-b3bdc6f587ce",
   "metadata": {},
   "outputs": [],
   "source": [
    "Q6. Write a python program to print the first 10 Fibonacci numbers using a while loop."
   ]
  },
  {
   "cell_type": "code",
   "execution_count": null,
   "id": "27c26ffb-3459-4348-b20f-82368702806a",
   "metadata": {},
   "outputs": [],
   "source": [
    "                                            ANSWER-6"
   ]
  },
  {
   "cell_type": "code",
   "execution_count": 1,
   "id": "29472399-1531-4cea-a335-fb56c2bb2609",
   "metadata": {},
   "outputs": [
    {
     "name": "stdout",
     "output_type": "stream",
     "text": [
      "0\n",
      "1\n",
      "1\n",
      "2\n",
      "3\n",
      "5\n",
      "8\n",
      "13\n",
      "21\n",
      "34\n"
     ]
    }
   ],
   "source": [
    "a, b = 0, 1  \n",
    "count = 0\n",
    "\n",
    "while count < 10:  ## it will continue the loop till count become 10\n",
    "    print(a)\n",
    "    c = a + b\n",
    "    a = b\n",
    "    b = c\n",
    "    count += 1 ## add count for loop to continue till 10 fibonacci no. reached"
   ]
  },
  {
   "cell_type": "code",
   "execution_count": null,
   "id": "99568a6a-30ab-4efd-8f08-6dfb48489622",
   "metadata": {},
   "outputs": [],
   "source": []
  },
  {
   "cell_type": "code",
   "execution_count": null,
   "id": "e8b167f2-3870-47b4-bde1-810c124992c9",
   "metadata": {},
   "outputs": [],
   "source": []
  },
  {
   "cell_type": "code",
   "execution_count": null,
   "id": "ef41b89c-0223-441a-9cab-dfa7260956b9",
   "metadata": {},
   "outputs": [],
   "source": []
  },
  {
   "cell_type": "code",
   "execution_count": null,
   "id": "d5dc2384-d0a8-4749-893d-bb382375f57c",
   "metadata": {},
   "outputs": [],
   "source": [
    "Q7. Write a List Comprehension to iterate through the given string: ‘pwskills’.Expected output: ['p', 'w', 's', 'k', 'i', 'l', 'l', 's']"
   ]
  },
  {
   "cell_type": "code",
   "execution_count": null,
   "id": "eb06875a-b2c6-455f-8ce4-e577290851ae",
   "metadata": {},
   "outputs": [],
   "source": [
    "                                                ANSWER-7"
   ]
  },
  {
   "cell_type": "code",
   "execution_count": 2,
   "id": "3ecd106c-ffb5-4cbc-9856-3a569d815b50",
   "metadata": {},
   "outputs": [
    {
     "name": "stdout",
     "output_type": "stream",
     "text": [
      "['p', 'w', 's', 'k', 'i', 'l', 'l', 's']\n"
     ]
    }
   ],
   "source": [
    "string = 'pwskills' ## declare the string to be iterate\n",
    "result = [char for char in string if char in ['p', 'w', 's', 'k', 'i', 'l']] ## for loop and if statement in list comphrension\n",
    "print(result)"
   ]
  },
  {
   "cell_type": "code",
   "execution_count": null,
   "id": "3b236d73-407f-4f92-b1b5-6d83d1a700c8",
   "metadata": {},
   "outputs": [],
   "source": []
  },
  {
   "cell_type": "code",
   "execution_count": null,
   "id": "b9f1a08b-2955-46c4-8c1a-69f1899d54ab",
   "metadata": {},
   "outputs": [],
   "source": []
  },
  {
   "cell_type": "code",
   "execution_count": null,
   "id": "422cb9a4-a521-4122-95bf-077bfc6d4ad1",
   "metadata": {},
   "outputs": [],
   "source": []
  },
  {
   "cell_type": "code",
   "execution_count": null,
   "id": "bac5b965-1849-4a81-af4c-d5c828fe9252",
   "metadata": {},
   "outputs": [],
   "source": [
    "Q8. Write a python program to check whether a given number is Palindrome or not using a while loop."
   ]
  },
  {
   "cell_type": "code",
   "execution_count": null,
   "id": "8baa65d7-c289-4bbc-9ba1-0cfbe36d2502",
   "metadata": {},
   "outputs": [],
   "source": [
    "                                            ANSWER-8"
   ]
  },
  {
   "cell_type": "code",
   "execution_count": null,
   "id": "03b5737f-27bc-4e79-9e29-33cc3a3bb066",
   "metadata": {},
   "outputs": [],
   "source": [
    "## Check pallindrom number"
   ]
  },
  {
   "cell_type": "code",
   "execution_count": 3,
   "id": "d5ae1293-af6b-49b9-8b5e-2aac406210c5",
   "metadata": {},
   "outputs": [
    {
     "name": "stdin",
     "output_type": "stream",
     "text": [
      "Enter a number:  123321\n"
     ]
    },
    {
     "name": "stdout",
     "output_type": "stream",
     "text": [
      "123321 is a palindrome\n"
     ]
    }
   ],
   "source": [
    "num = int(input(\"Enter a number: \"))\n",
    "temp = num ## Create temp variable to do operation without changing orignal variable\n",
    "reverse = 0 \n",
    "\n",
    "while temp != 0: \n",
    "    digit = temp % 10 ## it will get the rightmost digit of a number\n",
    "    reverse = reverse * 10 + digit  ## It will get the number in reverse\n",
    "    temp = (temp - digit) / 10 ## It will loop till no. rightmost digit is left\n",
    "\n",
    "if num == reverse:  ## check the reverse number is same to orignal number or not\n",
    "    print(num, \"is a palindrome\")\n",
    "else:\n",
    "    print(num, \"is not a palindrome\")"
   ]
  },
  {
   "cell_type": "code",
   "execution_count": null,
   "id": "c62f845d-2807-4bce-bd73-46e833c557e1",
   "metadata": {},
   "outputs": [],
   "source": [
    "## Check non-palindrone number"
   ]
  },
  {
   "cell_type": "code",
   "execution_count": 4,
   "id": "f45881c5-a330-4a7b-b889-e1e64104d54c",
   "metadata": {},
   "outputs": [
    {
     "name": "stdin",
     "output_type": "stream",
     "text": [
      "Enter a number:  12345\n"
     ]
    },
    {
     "name": "stdout",
     "output_type": "stream",
     "text": [
      "12345 is not a palindrome\n"
     ]
    }
   ],
   "source": [
    "num = int(input(\"Enter a number: \"))\n",
    "temp = num ## Create temp variable to do operation without changing orignal variable\n",
    "reverse = 0 \n",
    "\n",
    "while temp != 0: \n",
    "    digit = temp % 10 ## it will get the rightmost digit of a number\n",
    "    reverse = reverse * 10 + digit  ## It will get the number in reverse\n",
    "    temp = (temp - digit) / 10 ## It will loop till no. rightmost digit is left\n",
    "\n",
    "if num == reverse:  ## check the reverse number is same to orignal number or not\n",
    "    print(num, \"is a palindrome\")\n",
    "else:\n",
    "    print(num, \"is not a palindrome\")"
   ]
  },
  {
   "cell_type": "code",
   "execution_count": null,
   "id": "847dc0d5-de3f-46f0-89e1-9379c1fd8a51",
   "metadata": {},
   "outputs": [],
   "source": []
  },
  {
   "cell_type": "code",
   "execution_count": null,
   "id": "206f9ce5-ff79-44f7-b417-b79b7e1d6bef",
   "metadata": {},
   "outputs": [],
   "source": []
  },
  {
   "cell_type": "code",
   "execution_count": null,
   "id": "38465b56-28eb-42c3-9719-576e53c46ea7",
   "metadata": {},
   "outputs": [],
   "source": []
  },
  {
   "cell_type": "code",
   "execution_count": null,
   "id": "98145f45-18e2-4338-a5b3-fa2b66f42d19",
   "metadata": {},
   "outputs": [],
   "source": [
    "Q9. Write a code to print odd numbers from 1 to 100 using list comprehension."
   ]
  },
  {
   "cell_type": "code",
   "execution_count": null,
   "id": "1be38ec8-5dde-4586-82d2-0f9dbac96b46",
   "metadata": {},
   "outputs": [],
   "source": [
    "                                        ANSWER-9"
   ]
  },
  {
   "cell_type": "code",
   "execution_count": 6,
   "id": "ca66012e-01b1-44f4-9822-3e9e19bb6aca",
   "metadata": {},
   "outputs": [
    {
     "name": "stdout",
     "output_type": "stream",
     "text": [
      "[1, 2, 3, 4, 5, 6, 7, 8, 9, 10, 11, 12, 13, 14, 15, 16, 17, 18, 19, 20, 21, 22, 23, 24, 25, 26, 27, 28, 29, 30, 31, 32, 33, 34, 35, 36, 37, 38, 39, 40, 41, 42, 43, 44, 45, 46, 47, 48, 49, 50, 51, 52, 53, 54, 55, 56, 57, 58, 59, 60, 61, 62, 63, 64, 65, 66, 67, 68, 69, 70, 71, 72, 73, 74, 75, 76, 77, 78, 79, 80, 81, 82, 83, 84, 85, 86, 87, 88, 89, 90, 91, 92, 93, 94, 95, 96, 97, 98, 99, 100]\n",
      "[1, 3, 5, 7, 9, 11, 13, 15, 17, 19, 21, 23, 25, 27, 29, 31, 33, 35, 37, 39, 41, 43, 45, 47, 49, 51, 53, 55, 57, 59, 61, 63, 65, 67, 69, 71, 73, 75, 77, 79, 81, 83, 85, 87, 89, 91, 93, 95, 97, 99]\n"
     ]
    }
   ],
   "source": [
    "numbers = [i for i in range(1, 101)] ## To create a list of number 1to 100 using range and store in number variable\n",
    "odd_numbers = [num for num in numbers if num % 2 != 0] ## list comprehension to get odd numbers\n",
    "print(numbers)  ## to print list from 1 to 100\n",
    "print(odd_numbers) ## to print odd number from 1 to 100"
   ]
  },
  {
   "cell_type": "code",
   "execution_count": null,
   "id": "bc600e67-5fcc-43a4-812f-cb8a856579f1",
   "metadata": {},
   "outputs": [],
   "source": []
  }
 ],
 "metadata": {
  "kernelspec": {
   "display_name": "Python 3 (ipykernel)",
   "language": "python",
   "name": "python3"
  },
  "language_info": {
   "codemirror_mode": {
    "name": "ipython",
    "version": 3
   },
   "file_extension": ".py",
   "mimetype": "text/x-python",
   "name": "python",
   "nbconvert_exporter": "python",
   "pygments_lexer": "ipython3",
   "version": "3.10.8"
  }
 },
 "nbformat": 4,
 "nbformat_minor": 5
}
